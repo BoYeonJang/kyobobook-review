{
  "cells": [
    {
      "cell_type": "code",
      "execution_count": 1,
      "metadata": {},
      "outputs": [],
      "source": [
        "import pandas as pd"
      ]
    },
    {
      "cell_type": "markdown",
      "metadata": {},
      "source": [
        "## 인덱스 삭제 후 저장"
      ]
    },
    {
      "cell_type": "code",
      "execution_count": 20,
      "metadata": {},
      "outputs": [
        {
          "data": {
            "text/html": [
              "<div>\n",
              "<style scoped>\n",
              "    .dataframe tbody tr th:only-of-type {\n",
              "        vertical-align: middle;\n",
              "    }\n",
              "\n",
              "    .dataframe tbody tr th {\n",
              "        vertical-align: top;\n",
              "    }\n",
              "\n",
              "    .dataframe thead th {\n",
              "        text-align: right;\n",
              "    }\n",
              "</style>\n",
              "<table border=\"1\" class=\"dataframe\">\n",
              "  <thead>\n",
              "    <tr style=\"text-align: right;\">\n",
              "      <th></th>\n",
              "      <th>Unnamed: 0</th>\n",
              "      <th>part</th>\n",
              "      <th>title</th>\n",
              "      <th>rating</th>\n",
              "      <th>text</th>\n",
              "    </tr>\n",
              "  </thead>\n",
              "  <tbody>\n",
              "    <tr>\n",
              "      <th>0</th>\n",
              "      <td>0</td>\n",
              "      <td>소설</td>\n",
              "      <td>나미야 잡화점의 기적</td>\n",
              "      <td>평점5점</td>\n",
              "      <td>과거와 현재를 넘나들며 기적과 감동을 선사하는 책</td>\n",
              "    </tr>\n",
              "    <tr>\n",
              "      <th>1</th>\n",
              "      <td>1</td>\n",
              "      <td>소설</td>\n",
              "      <td>나미야 잡화점의 기적</td>\n",
              "      <td>평점4점</td>\n",
              "      <td>30년의 타임슬립을 통한 고민상담</td>\n",
              "    </tr>\n",
              "    <tr>\n",
              "      <th>2</th>\n",
              "      <td>2</td>\n",
              "      <td>소설</td>\n",
              "      <td>나미야 잡화점의 기적</td>\n",
              "      <td>평점5점</td>\n",
              "      <td>술술 읽히고 재밌습니다</td>\n",
              "    </tr>\n",
              "  </tbody>\n",
              "</table>\n",
              "</div>"
            ],
            "text/plain": [
              "   Unnamed: 0 part        title rating                         text\n",
              "0           0   소설  나미야 잡화점의 기적   평점5점  과거와 현재를 넘나들며 기적과 감동을 선사하는 책\n",
              "1           1   소설  나미야 잡화점의 기적   평점4점           30년의 타임슬립을 통한 고민상담\n",
              "2           2   소설  나미야 잡화점의 기적   평점5점                 술술 읽히고 재밌습니다"
            ]
          },
          "execution_count": 20,
          "metadata": {},
          "output_type": "execute_result"
        }
      ],
      "source": [
        "df1 = pd.read_csv('나미야 잡화점의 기적.csv')\n",
        "df1.head(3)"
      ]
    },
    {
      "cell_type": "code",
      "execution_count": 12,
      "metadata": {},
      "outputs": [
        {
          "data": {
            "text/plain": [
              "(1225, 4)"
            ]
          },
          "execution_count": 12,
          "metadata": {},
          "output_type": "execute_result"
        }
      ],
      "source": [
        "df1.shape"
      ]
    },
    {
      "cell_type": "code",
      "execution_count": 21,
      "metadata": {},
      "outputs": [
        {
          "data": {
            "text/html": [
              "<div>\n",
              "<style scoped>\n",
              "    .dataframe tbody tr th:only-of-type {\n",
              "        vertical-align: middle;\n",
              "    }\n",
              "\n",
              "    .dataframe tbody tr th {\n",
              "        vertical-align: top;\n",
              "    }\n",
              "\n",
              "    .dataframe thead th {\n",
              "        text-align: right;\n",
              "    }\n",
              "</style>\n",
              "<table border=\"1\" class=\"dataframe\">\n",
              "  <thead>\n",
              "    <tr style=\"text-align: right;\">\n",
              "      <th></th>\n",
              "      <th>part</th>\n",
              "      <th>title</th>\n",
              "      <th>rating</th>\n",
              "      <th>text</th>\n",
              "    </tr>\n",
              "  </thead>\n",
              "  <tbody>\n",
              "    <tr>\n",
              "      <th>0</th>\n",
              "      <td>소설</td>\n",
              "      <td>나미야 잡화점의 기적</td>\n",
              "      <td>평점5점</td>\n",
              "      <td>과거와 현재를 넘나들며 기적과 감동을 선사하는 책</td>\n",
              "    </tr>\n",
              "    <tr>\n",
              "      <th>1</th>\n",
              "      <td>소설</td>\n",
              "      <td>나미야 잡화점의 기적</td>\n",
              "      <td>평점4점</td>\n",
              "      <td>30년의 타임슬립을 통한 고민상담</td>\n",
              "    </tr>\n",
              "    <tr>\n",
              "      <th>2</th>\n",
              "      <td>소설</td>\n",
              "      <td>나미야 잡화점의 기적</td>\n",
              "      <td>평점5점</td>\n",
              "      <td>술술 읽히고 재밌습니다</td>\n",
              "    </tr>\n",
              "  </tbody>\n",
              "</table>\n",
              "</div>"
            ],
            "text/plain": [
              "  part        title rating                         text\n",
              "0   소설  나미야 잡화점의 기적   평점5점  과거와 현재를 넘나들며 기적과 감동을 선사하는 책\n",
              "1   소설  나미야 잡화점의 기적   평점4점           30년의 타임슬립을 통한 고민상담\n",
              "2   소설  나미야 잡화점의 기적   평점5점                 술술 읽히고 재밌습니다"
            ]
          },
          "execution_count": 21,
          "metadata": {},
          "output_type": "execute_result"
        }
      ],
      "source": [
        "df1.drop('Unnamed: 0',  axis=1, inplace=True)\n",
        "df1.head(3)"
      ]
    },
    {
      "cell_type": "code",
      "execution_count": 6,
      "metadata": {},
      "outputs": [
        {
          "data": {
            "text/html": [
              "<div>\n",
              "<style scoped>\n",
              "    .dataframe tbody tr th:only-of-type {\n",
              "        vertical-align: middle;\n",
              "    }\n",
              "\n",
              "    .dataframe tbody tr th {\n",
              "        vertical-align: top;\n",
              "    }\n",
              "\n",
              "    .dataframe thead th {\n",
              "        text-align: right;\n",
              "    }\n",
              "</style>\n",
              "<table border=\"1\" class=\"dataframe\">\n",
              "  <thead>\n",
              "    <tr style=\"text-align: right;\">\n",
              "      <th></th>\n",
              "      <th>index</th>\n",
              "      <th>document</th>\n",
              "      <th>label</th>\n",
              "    </tr>\n",
              "  </thead>\n",
              "  <tbody>\n",
              "    <tr>\n",
              "      <th>0</th>\n",
              "      <td>0</td>\n",
              "      <td>책 받자마자 순식간에 읽고 리뷰 남깁니다. 평소 너무 좋아하던 작가님의 신작이기에,...</td>\n",
              "      <td>1</td>\n",
              "    </tr>\n",
              "    <tr>\n",
              "      <th>1</th>\n",
              "      <td>1</td>\n",
              "      <td>기대를 많이 받는 책이라, 기다림과 곡절이 많나봐요 :) 예상했던 날짜에 좋은 상태...</td>\n",
              "      <td>1</td>\n",
              "    </tr>\n",
              "    <tr>\n",
              "      <th>2</th>\n",
              "      <td>2</td>\n",
              "      <td>가독성이 너무 좋다. 위로가 많이 됐고 배울 내용이 많은 멘토같은 책이었다.</td>\n",
              "      <td>1</td>\n",
              "    </tr>\n",
              "  </tbody>\n",
              "</table>\n",
              "</div>"
            ],
            "text/plain": [
              "   index                                           document  label\n",
              "0      0  책 받자마자 순식간에 읽고 리뷰 남깁니다. 평소 너무 좋아하던 작가님의 신작이기에,...      1\n",
              "1      1  기대를 많이 받는 책이라, 기다림과 곡절이 많나봐요 :) 예상했던 날짜에 좋은 상태...      1\n",
              "2      2         가독성이 너무 좋다. 위로가 많이 됐고 배울 내용이 많은 멘토같은 책이었다.      1"
            ]
          },
          "execution_count": 6,
          "metadata": {},
          "output_type": "execute_result"
        }
      ],
      "source": [
        "df1.reset_index(inplace=True)\n",
        "df1.head(3)"
      ]
    },
    {
      "cell_type": "code",
      "execution_count": 5,
      "metadata": {},
      "outputs": [
        {
          "data": {
            "text/html": [
              "<div>\n",
              "<style scoped>\n",
              "    .dataframe tbody tr th:only-of-type {\n",
              "        vertical-align: middle;\n",
              "    }\n",
              "\n",
              "    .dataframe tbody tr th {\n",
              "        vertical-align: top;\n",
              "    }\n",
              "\n",
              "    .dataframe thead th {\n",
              "        text-align: right;\n",
              "    }\n",
              "</style>\n",
              "<table border=\"1\" class=\"dataframe\">\n",
              "  <thead>\n",
              "    <tr style=\"text-align: right;\">\n",
              "      <th></th>\n",
              "      <th>part</th>\n",
              "      <th>title</th>\n",
              "      <th>rating</th>\n",
              "      <th>text</th>\n",
              "    </tr>\n",
              "  </thead>\n",
              "  <tbody>\n",
              "    <tr>\n",
              "      <th>0</th>\n",
              "      <td>인문</td>\n",
              "      <td>사피엔스</td>\n",
              "      <td>4</td>\n",
              "      <td>세계사를 이보다 더 간단히 그리고 자세히 기술한 책은 없을 것이라는 것은 제쳐두고라...</td>\n",
              "    </tr>\n",
              "    <tr>\n",
              "      <th>1</th>\n",
              "      <td>인문</td>\n",
              "      <td>사피엔스</td>\n",
              "      <td>2</td>\n",
              "      <td>NaN</td>\n",
              "    </tr>\n",
              "    <tr>\n",
              "      <th>2</th>\n",
              "      <td>인문</td>\n",
              "      <td>사피엔스</td>\n",
              "      <td>4</td>\n",
              "      <td>정독함.</td>\n",
              "    </tr>\n",
              "  </tbody>\n",
              "</table>\n",
              "</div>"
            ],
            "text/plain": [
              "  part title  rating                                               text\n",
              "0   인문  사피엔스       4  세계사를 이보다 더 간단히 그리고 자세히 기술한 책은 없을 것이라는 것은 제쳐두고라...\n",
              "1   인문  사피엔스       2                                                NaN\n",
              "2   인문  사피엔스       4                                               정독함."
            ]
          },
          "execution_count": 5,
          "metadata": {},
          "output_type": "execute_result"
        }
      ],
      "source": [
        "df1.drop('Unnamed: 0', axis=1, inplace=True)\n",
        "df1.head(3)"
      ]
    },
    {
      "cell_type": "code",
      "execution_count": 31,
      "metadata": {},
      "outputs": [
        {
          "data": {
            "text/html": [
              "<div>\n",
              "<style scoped>\n",
              "    .dataframe tbody tr th:only-of-type {\n",
              "        vertical-align: middle;\n",
              "    }\n",
              "\n",
              "    .dataframe tbody tr th {\n",
              "        vertical-align: top;\n",
              "    }\n",
              "\n",
              "    .dataframe thead th {\n",
              "        text-align: right;\n",
              "    }\n",
              "</style>\n",
              "<table border=\"1\" class=\"dataframe\">\n",
              "  <thead>\n",
              "    <tr style=\"text-align: right;\">\n",
              "      <th></th>\n",
              "      <th>index</th>\n",
              "      <th>date</th>\n",
              "      <th>rating</th>\n",
              "      <th>text</th>\n",
              "      <th>y</th>\n",
              "    </tr>\n",
              "  </thead>\n",
              "  <tbody>\n",
              "    <tr>\n",
              "      <th>0</th>\n",
              "      <td>0</td>\n",
              "      <td>2022-08-02</td>\n",
              "      <td>1.0</td>\n",
              "      <td>내가 이 책을 왜 샀지. 생각하게 하는 책이에요. 깊이도 없고 이론적 바탕도 없고 ...</td>\n",
              "      <td>0</td>\n",
              "    </tr>\n",
              "    <tr>\n",
              "      <th>1</th>\n",
              "      <td>1</td>\n",
              "      <td>2022-08-03</td>\n",
              "      <td>1.0</td>\n",
              "      <td>최근 구매한 책중 가장 기발했네요. 본인일기라고 하신 댓글에 공감하구요. 인스타 광...</td>\n",
              "      <td>0</td>\n",
              "    </tr>\n",
              "    <tr>\n",
              "      <th>2</th>\n",
              "      <td>2</td>\n",
              "      <td>2022-08-12</td>\n",
              "      <td>4.0</td>\n",
              "      <td>모든 엄마가 공감하고 직접 적용해 볼 수 있는 하브루타 대화를 제시한다</td>\n",
              "      <td>1</td>\n",
              "    </tr>\n",
              "  </tbody>\n",
              "</table>\n",
              "</div>"
            ],
            "text/plain": [
              "   index        date  rating  \\\n",
              "0      0  2022-08-02     1.0   \n",
              "1      1  2022-08-03     1.0   \n",
              "2      2  2022-08-12     4.0   \n",
              "\n",
              "                                                text  y  \n",
              "0  내가 이 책을 왜 샀지. 생각하게 하는 책이에요. 깊이도 없고 이론적 바탕도 없고 ...  0  \n",
              "1  최근 구매한 책중 가장 기발했네요. 본인일기라고 하신 댓글에 공감하구요. 인스타 광...  0  \n",
              "2            모든 엄마가 공감하고 직접 적용해 볼 수 있는 하브루타 대화를 제시한다  1  "
            ]
          },
          "execution_count": 31,
          "metadata": {},
          "output_type": "execute_result"
        }
      ],
      "source": [
        "df1.drop('part', axis=1, inplace=True)\n",
        "df1.head(3)"
      ]
    },
    {
      "cell_type": "code",
      "execution_count": 32,
      "metadata": {},
      "outputs": [
        {
          "data": {
            "text/html": [
              "<div>\n",
              "<style scoped>\n",
              "    .dataframe tbody tr th:only-of-type {\n",
              "        vertical-align: middle;\n",
              "    }\n",
              "\n",
              "    .dataframe tbody tr th {\n",
              "        vertical-align: top;\n",
              "    }\n",
              "\n",
              "    .dataframe thead th {\n",
              "        text-align: right;\n",
              "    }\n",
              "</style>\n",
              "<table border=\"1\" class=\"dataframe\">\n",
              "  <thead>\n",
              "    <tr style=\"text-align: right;\">\n",
              "      <th></th>\n",
              "      <th>index</th>\n",
              "      <th>date</th>\n",
              "      <th>text</th>\n",
              "      <th>y</th>\n",
              "    </tr>\n",
              "  </thead>\n",
              "  <tbody>\n",
              "    <tr>\n",
              "      <th>0</th>\n",
              "      <td>0</td>\n",
              "      <td>2022-08-02</td>\n",
              "      <td>내가 이 책을 왜 샀지. 생각하게 하는 책이에요. 깊이도 없고 이론적 바탕도 없고 ...</td>\n",
              "      <td>0</td>\n",
              "    </tr>\n",
              "    <tr>\n",
              "      <th>1</th>\n",
              "      <td>1</td>\n",
              "      <td>2022-08-03</td>\n",
              "      <td>최근 구매한 책중 가장 기발했네요. 본인일기라고 하신 댓글에 공감하구요. 인스타 광...</td>\n",
              "      <td>0</td>\n",
              "    </tr>\n",
              "    <tr>\n",
              "      <th>2</th>\n",
              "      <td>2</td>\n",
              "      <td>2022-08-12</td>\n",
              "      <td>모든 엄마가 공감하고 직접 적용해 볼 수 있는 하브루타 대화를 제시한다</td>\n",
              "      <td>1</td>\n",
              "    </tr>\n",
              "  </tbody>\n",
              "</table>\n",
              "</div>"
            ],
            "text/plain": [
              "   index        date                                               text  y\n",
              "0      0  2022-08-02  내가 이 책을 왜 샀지. 생각하게 하는 책이에요. 깊이도 없고 이론적 바탕도 없고 ...  0\n",
              "1      1  2022-08-03  최근 구매한 책중 가장 기발했네요. 본인일기라고 하신 댓글에 공감하구요. 인스타 광...  0\n",
              "2      2  2022-08-12            모든 엄마가 공감하고 직접 적용해 볼 수 있는 하브루타 대화를 제시한다  1"
            ]
          },
          "execution_count": 32,
          "metadata": {},
          "output_type": "execute_result"
        }
      ],
      "source": [
        "df1.drop('rating', axis=1, inplace=True)\n",
        "df1.head(3)"
      ]
    },
    {
      "cell_type": "code",
      "execution_count": 33,
      "metadata": {},
      "outputs": [
        {
          "data": {
            "text/html": [
              "<div>\n",
              "<style scoped>\n",
              "    .dataframe tbody tr th:only-of-type {\n",
              "        vertical-align: middle;\n",
              "    }\n",
              "\n",
              "    .dataframe tbody tr th {\n",
              "        vertical-align: top;\n",
              "    }\n",
              "\n",
              "    .dataframe thead th {\n",
              "        text-align: right;\n",
              "    }\n",
              "</style>\n",
              "<table border=\"1\" class=\"dataframe\">\n",
              "  <thead>\n",
              "    <tr style=\"text-align: right;\">\n",
              "      <th></th>\n",
              "      <th>id</th>\n",
              "      <th>date</th>\n",
              "      <th>document</th>\n",
              "      <th>label</th>\n",
              "    </tr>\n",
              "  </thead>\n",
              "  <tbody>\n",
              "    <tr>\n",
              "      <th>0</th>\n",
              "      <td>0</td>\n",
              "      <td>2022-08-02</td>\n",
              "      <td>내가 이 책을 왜 샀지. 생각하게 하는 책이에요. 깊이도 없고 이론적 바탕도 없고 ...</td>\n",
              "      <td>0</td>\n",
              "    </tr>\n",
              "    <tr>\n",
              "      <th>1</th>\n",
              "      <td>1</td>\n",
              "      <td>2022-08-03</td>\n",
              "      <td>최근 구매한 책중 가장 기발했네요. 본인일기라고 하신 댓글에 공감하구요. 인스타 광...</td>\n",
              "      <td>0</td>\n",
              "    </tr>\n",
              "    <tr>\n",
              "      <th>2</th>\n",
              "      <td>2</td>\n",
              "      <td>2022-08-12</td>\n",
              "      <td>모든 엄마가 공감하고 직접 적용해 볼 수 있는 하브루타 대화를 제시한다</td>\n",
              "      <td>1</td>\n",
              "    </tr>\n",
              "  </tbody>\n",
              "</table>\n",
              "</div>"
            ],
            "text/plain": [
              "   id        date                                           document  label\n",
              "0   0  2022-08-02  내가 이 책을 왜 샀지. 생각하게 하는 책이에요. 깊이도 없고 이론적 바탕도 없고 ...      0\n",
              "1   1  2022-08-03  최근 구매한 책중 가장 기발했네요. 본인일기라고 하신 댓글에 공감하구요. 인스타 광...      0\n",
              "2   2  2022-08-12            모든 엄마가 공감하고 직접 적용해 볼 수 있는 하브루타 대화를 제시한다      1"
            ]
          },
          "execution_count": 33,
          "metadata": {},
          "output_type": "execute_result"
        }
      ],
      "source": [
        "df1.rename(columns = {'index':'id', 'text':'document', 'y':'label'}, inplace=True)\n",
        "df1.head(3)"
      ]
    },
    {
      "cell_type": "code",
      "execution_count": 14,
      "metadata": {},
      "outputs": [],
      "source": [
        "df1.to_csv('나미야 잡화점의 기적.csv', index=None)"
      ]
    },
    {
      "cell_type": "markdown",
      "metadata": {},
      "source": [
        "## 이름 바꾸기 후 저장"
      ]
    },
    {
      "cell_type": "code",
      "execution_count": 19,
      "metadata": {},
      "outputs": [
        {
          "data": {
            "text/html": [
              "<div>\n",
              "<style scoped>\n",
              "    .dataframe tbody tr th:only-of-type {\n",
              "        vertical-align: middle;\n",
              "    }\n",
              "\n",
              "    .dataframe tbody tr th {\n",
              "        vertical-align: top;\n",
              "    }\n",
              "\n",
              "    .dataframe thead th {\n",
              "        text-align: right;\n",
              "    }\n",
              "</style>\n",
              "<table border=\"1\" class=\"dataframe\">\n",
              "  <thead>\n",
              "    <tr style=\"text-align: right;\">\n",
              "      <th></th>\n",
              "      <th>part</th>\n",
              "      <th>title</th>\n",
              "      <th>date</th>\n",
              "      <th>rating</th>\n",
              "      <th>text</th>\n",
              "    </tr>\n",
              "  </thead>\n",
              "  <tbody>\n",
              "    <tr>\n",
              "      <th>0</th>\n",
              "      <td>소설</td>\n",
              "      <td>파친코 1</td>\n",
              "      <td>2022-08-02</td>\n",
              "      <td>4</td>\n",
              "      <td>2권 2권 2권!!!!! 급해요!!!!! ㅋㅋㅋㅋ</td>\n",
              "    </tr>\n",
              "    <tr>\n",
              "      <th>1</th>\n",
              "      <td>소설</td>\n",
              "      <td>파친코 1</td>\n",
              "      <td>2022-08-03</td>\n",
              "      <td>4</td>\n",
              "      <td>유튜브에서 짤막한 영상보고 너무나 궁금해서 사전예약 후 구매했습니다.\\n흡입력이 대...</td>\n",
              "    </tr>\n",
              "    <tr>\n",
              "      <th>2</th>\n",
              "      <td>소설</td>\n",
              "      <td>파친코 1</td>\n",
              "      <td>2022-08-02</td>\n",
              "      <td>4</td>\n",
              "      <td>책을 쥐고 읽기시작하여 그내용에점점 빠져들어 결국엔 다읽고 말았다 내고향이기도한, ...</td>\n",
              "    </tr>\n",
              "  </tbody>\n",
              "</table>\n",
              "</div>"
            ],
            "text/plain": [
              "  part  title        date  rating  \\\n",
              "0   소설  파친코 1  2022-08-02       4   \n",
              "1   소설  파친코 1  2022-08-03       4   \n",
              "2   소설  파친코 1  2022-08-02       4   \n",
              "\n",
              "                                                text  \n",
              "0                        2권 2권 2권!!!!! 급해요!!!!! ㅋㅋㅋㅋ  \n",
              "1  유튜브에서 짤막한 영상보고 너무나 궁금해서 사전예약 후 구매했습니다.\\n흡입력이 대...  \n",
              "2  책을 쥐고 읽기시작하여 그내용에점점 빠져들어 결국엔 다읽고 말았다 내고향이기도한, ...  "
            ]
          },
          "execution_count": 19,
          "metadata": {},
          "output_type": "execute_result"
        }
      ],
      "source": [
        "df = pd.read_csv('파친코.csv', on_bad_lines='skip')\n",
        "df.head(3)"
      ]
    },
    {
      "cell_type": "code",
      "execution_count": 20,
      "metadata": {},
      "outputs": [
        {
          "data": {
            "text/html": [
              "<div>\n",
              "<style scoped>\n",
              "    .dataframe tbody tr th:only-of-type {\n",
              "        vertical-align: middle;\n",
              "    }\n",
              "\n",
              "    .dataframe tbody tr th {\n",
              "        vertical-align: top;\n",
              "    }\n",
              "\n",
              "    .dataframe thead th {\n",
              "        text-align: right;\n",
              "    }\n",
              "</style>\n",
              "<table border=\"1\" class=\"dataframe\">\n",
              "  <thead>\n",
              "    <tr style=\"text-align: right;\">\n",
              "      <th></th>\n",
              "      <th>part</th>\n",
              "      <th>title</th>\n",
              "      <th>date</th>\n",
              "      <th>rating</th>\n",
              "      <th>text</th>\n",
              "    </tr>\n",
              "  </thead>\n",
              "  <tbody>\n",
              "    <tr>\n",
              "      <th>0</th>\n",
              "      <td>국외소설</td>\n",
              "      <td>파친코 1</td>\n",
              "      <td>2022-08-02</td>\n",
              "      <td>4</td>\n",
              "      <td>2권 2권 2권!!!!! 급해요!!!!! ㅋㅋㅋㅋ</td>\n",
              "    </tr>\n",
              "    <tr>\n",
              "      <th>1</th>\n",
              "      <td>국외소설</td>\n",
              "      <td>파친코 1</td>\n",
              "      <td>2022-08-03</td>\n",
              "      <td>4</td>\n",
              "      <td>유튜브에서 짤막한 영상보고 너무나 궁금해서 사전예약 후 구매했습니다.\\n흡입력이 대...</td>\n",
              "    </tr>\n",
              "    <tr>\n",
              "      <th>2</th>\n",
              "      <td>국외소설</td>\n",
              "      <td>파친코 1</td>\n",
              "      <td>2022-08-02</td>\n",
              "      <td>4</td>\n",
              "      <td>책을 쥐고 읽기시작하여 그내용에점점 빠져들어 결국엔 다읽고 말았다 내고향이기도한, ...</td>\n",
              "    </tr>\n",
              "    <tr>\n",
              "      <th>3</th>\n",
              "      <td>국외소설</td>\n",
              "      <td>파친코 1</td>\n",
              "      <td>2022-08-01</td>\n",
              "      <td>4</td>\n",
              "      <td>원서 다 읽어가는데 타이밍맞게 번역본 나와서 좋습니다 먹먹하네요.. 이 시대 태어난...</td>\n",
              "    </tr>\n",
              "    <tr>\n",
              "      <th>4</th>\n",
              "      <td>국외소설</td>\n",
              "      <td>파친코 1</td>\n",
              "      <td>2022-07-15</td>\n",
              "      <td>4</td>\n",
              "      <td>기다렸던 책이라 바로 구매했어요! 바뀐 표지와 책갈피도 예쁘네요!!</td>\n",
              "    </tr>\n",
              "    <tr>\n",
              "      <th>...</th>\n",
              "      <td>...</td>\n",
              "      <td>...</td>\n",
              "      <td>...</td>\n",
              "      <td>...</td>\n",
              "      <td>...</td>\n",
              "    </tr>\n",
              "    <tr>\n",
              "      <th>774</th>\n",
              "      <td>국외소설</td>\n",
              "      <td>참을 수 없는 존재의 가벼움</td>\n",
              "      <td>2019-05-31</td>\n",
              "      <td>4</td>\n",
              "      <td>위대한 작품은 읽어봐야.</td>\n",
              "    </tr>\n",
              "    <tr>\n",
              "      <th>775</th>\n",
              "      <td>국외소설</td>\n",
              "      <td>참을 수 없는 존재의 가벼움</td>\n",
              "      <td>2019-05-27</td>\n",
              "      <td>3</td>\n",
              "      <td>제가 이해하고 깊게 느끼기엔 아직 어려운 책입니다. 그렇지만 시간이 흐른 뒤 꼭 다...</td>\n",
              "    </tr>\n",
              "    <tr>\n",
              "      <th>776</th>\n",
              "      <td>국외소설</td>\n",
              "      <td>참을 수 없는 존재의 가벼움</td>\n",
              "      <td>2019-05-21</td>\n",
              "      <td>4</td>\n",
              "      <td>굳굳 표지도 예쁨 ㅋㅋ</td>\n",
              "    </tr>\n",
              "    <tr>\n",
              "      <th>777</th>\n",
              "      <td>국외소설</td>\n",
              "      <td>참을 수 없는 존재의 가벼움</td>\n",
              "      <td>2019-05-18</td>\n",
              "      <td>4</td>\n",
              "      <td>너무 좋아요 ㅎㅎ 강추</td>\n",
              "    </tr>\n",
              "    <tr>\n",
              "      <th>778</th>\n",
              "      <td>국외소설</td>\n",
              "      <td>참을 수 없는 존재의 가벼움</td>\n",
              "      <td>2019-05-17</td>\n",
              "      <td>4</td>\n",
              "      <td>좋아요</td>\n",
              "    </tr>\n",
              "  </tbody>\n",
              "</table>\n",
              "<p>779 rows × 5 columns</p>\n",
              "</div>"
            ],
            "text/plain": [
              "     part            title        date  rating  \\\n",
              "0    국외소설            파친코 1  2022-08-02       4   \n",
              "1    국외소설            파친코 1  2022-08-03       4   \n",
              "2    국외소설            파친코 1  2022-08-02       4   \n",
              "3    국외소설            파친코 1  2022-08-01       4   \n",
              "4    국외소설            파친코 1  2022-07-15       4   \n",
              "..    ...              ...         ...     ...   \n",
              "774  국외소설  참을 수 없는 존재의 가벼움  2019-05-31       4   \n",
              "775  국외소설  참을 수 없는 존재의 가벼움  2019-05-27       3   \n",
              "776  국외소설  참을 수 없는 존재의 가벼움  2019-05-21       4   \n",
              "777  국외소설  참을 수 없는 존재의 가벼움  2019-05-18       4   \n",
              "778  국외소설  참을 수 없는 존재의 가벼움  2019-05-17       4   \n",
              "\n",
              "                                                  text  \n",
              "0                          2권 2권 2권!!!!! 급해요!!!!! ㅋㅋㅋㅋ  \n",
              "1    유튜브에서 짤막한 영상보고 너무나 궁금해서 사전예약 후 구매했습니다.\\n흡입력이 대...  \n",
              "2    책을 쥐고 읽기시작하여 그내용에점점 빠져들어 결국엔 다읽고 말았다 내고향이기도한, ...  \n",
              "3    원서 다 읽어가는데 타이밍맞게 번역본 나와서 좋습니다 먹먹하네요.. 이 시대 태어난...  \n",
              "4                기다렸던 책이라 바로 구매했어요! 바뀐 표지와 책갈피도 예쁘네요!!  \n",
              "..                                                 ...  \n",
              "774                                      위대한 작품은 읽어봐야.  \n",
              "775  제가 이해하고 깊게 느끼기엔 아직 어려운 책입니다. 그렇지만 시간이 흐른 뒤 꼭 다...  \n",
              "776                                       굳굳 표지도 예쁨 ㅋㅋ  \n",
              "777                                       너무 좋아요 ㅎㅎ 강추  \n",
              "778                                                좋아요  \n",
              "\n",
              "[779 rows x 5 columns]"
            ]
          },
          "execution_count": 20,
          "metadata": {},
          "output_type": "execute_result"
        }
      ],
      "source": [
        "change = {'part' : {'소설':'국외소설'}}\n",
        "result = df.replace(change)\n",
        "result"
      ]
    },
    {
      "cell_type": "code",
      "execution_count": 13,
      "metadata": {},
      "outputs": [],
      "source": [
        "result.to_csv('파친코.csv', index=None)"
      ]
    }
  ],
  "metadata": {
    "kernelspec": {
      "display_name": "Python 3.10.6 ('kyobobook-review-I3nwByYx')",
      "language": "python",
      "name": "python3"
    },
    "language_info": {
      "codemirror_mode": {
        "name": "ipython",
        "version": 3
      },
      "file_extension": ".py",
      "mimetype": "text/x-python",
      "name": "python",
      "nbconvert_exporter": "python",
      "pygments_lexer": "ipython3",
      "version": "3.10.6"
    },
    "orig_nbformat": 4,
    "vscode": {
      "interpreter": {
        "hash": "80b000d33da25225b27de613d7369f2995c7d52c783464a0a4b6bf932cf31843"
      }
    }
  },
  "nbformat": 4,
  "nbformat_minor": 2
}
