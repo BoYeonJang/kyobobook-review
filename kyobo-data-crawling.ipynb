{
 "cells": [
  {
   "cell_type": "markdown",
   "metadata": {},
   "source": [
    "## 라이브러리"
   ]
  },
  {
   "cell_type": "code",
   "execution_count": 18,
   "metadata": {},
   "outputs": [],
   "source": [
    "# beautifulSoup4: 웹 페이지의 정보를 쉽게 스크랩할 수 있도록 기능을 제공하는 라이브러리\n",
    "from bs4 import BeautifulSoup\n",
    "# selenium: beautifulSoup4과 같지만 자바스크립트가 동적으로 만든 데이터를 크롤링하기 위함\n",
    "from selenium import webdriver\n",
    "from selenium.webdriver.common.keys import Keys\n",
    "from selenium.webdriver.common.by import By\n",
    "# requests: HTTP 요청을 보낼 수 있도록 기능을 제공하는 라이브러리\n",
    "import requests\n",
    "# re: 정규 표현식을 사용할때, 사용하는 파이썬 내장 모듈\n",
    "import re\n",
    "import pandas as pd\n",
    "import numpy as np\n",
    "import os\n",
    "import csv\n",
    "from time import sleep\n",
    "\n",
    "import warnings \n",
    "warnings.filterwarnings('ignore')"
   ]
  },
  {
   "cell_type": "markdown",
   "metadata": {},
   "source": [
    "## 셀레니움으로 별점 및 리뷰 저장"
   ]
  },
  {
   "cell_type": "code",
   "execution_count": 19,
   "metadata": {},
   "outputs": [],
   "source": [
    "# webdriver가 위치한 경로로 설정\n",
    "driver = webdriver.Chrome('/Users/boyeonjang/git/kyobobook-review/chromedriver')"
   ]
  },
  {
   "cell_type": "code",
   "execution_count": null,
   "metadata": {},
   "outputs": [],
   "source": [
    "numbers = ['B', 'C', 'D', 'E', 'F', 'G', 'H', 'I', 'J', 'K', 'L', 'M', 'N', 'Q', 'R', 'S', 'T', 'U', 'V', 'a', 'b', 'c', 'd', 'e', 'f', 'g', '08', 'h', 'i']"
   ]
  },
  {
   "cell_type": "code",
   "execution_count": null,
   "metadata": {},
   "outputs": [],
   "source": [
    "#(추가) 분야별로 for문\n",
    "driver.get(\"http://www.kyobobook.co.kr/bestSellerNew/bestseller.laf?mallGb=KOR&linkClass=c&range=1&kind=0&orderClick=DAb\")\n",
    "\n",
    "for i in range(1,21): # top 20\n",
    "  driver.find_element(By.XPATH, f'''//*[@id=\"main_contents\"]/ul/li[{i}]/div[2]/div[2]/a/strong''').click() # 책 제목 클릭\n",
    "\n",
    "  sleep(3)\n",
    "\n",
    "  driver.find_element(By.XPATH, '''//*[@id=\"event_info\"]/li[3]/a''').click() # 리뷰 클릭\n",
    "\n",
    "  sleep(3)\n",
    "\n",
    "  for idx in range(1,6): # 리뷰 5개씩\n",
    "\n",
    "    # one_review = driver.find_element(By.XPATH, f'''//*[@id=\"box_detail_review\"]/ul/li[{idx}]/div[1]''')\n",
    "\n",
    "    rating_xpath = driver.find_element(By.XPATH, f'''//*[@id=\"box_detail_review\"]/ul/li[{idx}]/div[1]/dl/dd[3]/span''')\n",
    "    text_xpath = driver.find_element(By.XPATH, f'''//*[@id=\"box_detail_review\"]/ul/li[{idx}]/div[1]/dl/dd[5]/div''')\n",
    "    date_xpath = driver.find_element(By.XPATH, f'''//*[@id=\"box_detail_review\"]/ul/li[{idx}]/div[1]/dl/dd[1]''')\n",
    "    \n",
    "    #(추가)csv로 저장\n",
    "    rating = rating_xpath.text\n",
    "    text = text_xpath.text\n",
    "    date = date_xpath.text\n",
    "    print(\"rating: \", rating)\n",
    "    print(\"text: \", text)\n",
    "    print(\"date: \", date)\n",
    "    sleep(5)\n",
    "\n",
    "    #(추가) 다음페이지 넘기기\n",
    "\n",
    "  driver.close()\n",
    "\n",
    "  driver.back()\n",
    "  sleep(2)"
   ]
  },
  {
   "cell_type": "code",
   "execution_count": null,
   "metadata": {},
   "outputs": [],
   "source": [
    "driver.get('http://www.kyobobook.co.kr/bestSellerNew/bestseller.laf?mallGb=KOR&linkClass=B&range=1&kind=2&orderClick=DAd')\n",
    "\n",
    "for book in range(1, 21): # top 20\n",
    "  driver.find_element(By.XPATH, f'''//*[@id=\"main_contents\"]/ul/li[{book}]/div[2]/div[2]/a/strong''').click() # 책 제목 클릭\n",
    "  driver.implicitly_wait(time_to_wait=10) # 파싱이 되면 바로 다음 코드로 넘어간다 파싱이 안될 경우 최대 10초를 기다린다\n",
    "  \n",
    "  title = driver.find_element(By.XPATH, '''//*[@id=\"container\"]/div[2]/form/div[1]/h1/strong''')\n",
    "  print('title: ', title)\n",
    "\n",
    "  driver.find_element(By.XPATH, '''//*[@id=\"event_info\"]/li[3]/a''').click() # 리뷰 클릭\n",
    "  driver.implicitly_wait(time_to_wait=10)\n",
    "\n",
    "  # 페이지가 다음으로 넘어가면\n",
    "  for page in range(1, 13):\n",
    "    for idx in range(1, 6): # 리뷰 5개씩\n",
    "      rating_xpath = driver.find_element(By.XPATH, f'''//*[@id=\"box_detail_review\"]/ul/li[{idx}]/div[1]/dl/dd[3]/span''') # 별점\n",
    "      text_xpath = driver.find_element(By.XPATH, f'''//*[@id=\"box_detail_review\"]/ul/li[{idx}]/div[1]/dl/dd[5]/div''') # 리뷰 글\n",
    "      date_xpath = driver.find_element(By.XPATH, f'''//*[@id=\"box_detail_review\"]/ul/li[{idx}]/div[1]/dl/dd[1]''') # 날짜\n",
    "      \n",
    "      #(추가)csv로 저장\n",
    "      rating = rating_xpath.text\n",
    "      text = text_xpath.text\n",
    "      date = date_xpath.text\n",
    "      print('rating: ', rating)\n",
    "      print('text: ', text)\n",
    "      print(\"date: \", date)\n",
    "      driver.implicitly_wait(time_to_wait=10)\n",
    "      \n",
    "      # 3개 열을 가진 pandas DataFrame으로 바꿔준 뒤 엑셀 파일로 저장\n",
    "      df = pd.DataFrame({'title':title, 'rating':rating, 'text':text}, index=0)\n",
    "      df.to_csv(\"best_books.csv\", encoding='utf-8-sig')\n",
    "\n",
    "    # 다음페이지 넘기기\n",
    "    driver.find_element(By.XPATH, f'''//*[@id=\"box_detail_review\"]/div[3]/div/a[{page}]''').click()\n",
    "  \n",
    "  driver.close()\n",
    "  driver.back()"
   ]
  },
  {
   "cell_type": "code",
   "execution_count": null,
   "metadata": {},
   "outputs": [],
   "source": []
  }
 ],
 "metadata": {
  "kernelspec": {
   "display_name": "Python 3.8.9 ('kyobobook-review-I3nwByYx')",
   "language": "python",
   "name": "python3"
  },
  "language_info": {
   "codemirror_mode": {
    "name": "ipython",
    "version": 3
   },
   "file_extension": ".py",
   "mimetype": "text/x-python",
   "name": "python",
   "nbconvert_exporter": "python",
   "pygments_lexer": "ipython3",
   "version": "3.8.9"
  },
  "orig_nbformat": 4,
  "vscode": {
   "interpreter": {
    "hash": "80b000d33da25225b27de613d7369f2995c7d52c783464a0a4b6bf932cf31843"
   }
  }
 },
 "nbformat": 4,
 "nbformat_minor": 2
}
