{
 "cells": [
  {
   "cell_type": "markdown",
   "metadata": {},
   "source": [
    "## 라이브러리"
   ]
  },
  {
   "cell_type": "code",
   "execution_count": 12,
   "metadata": {},
   "outputs": [],
   "source": [
    "# beautifulSoup4: 웹 페이지의 정보를 쉽게 스크랩할 수 있도록 기능을 제공하는 라이브러리\n",
    "from bs4 import BeautifulSoup\n",
    "# selenium: beautifulSoup4과 같지만 자바스크립트가 동적으로 만든 데이터를 크롤링하기 위함\n",
    "from selenium import webdriver\n",
    "from selenium.webdriver.common.keys import Keys\n",
    "from selenium.webdriver.common.by import By\n",
    "# requests: HTTP 요청을 보낼 수 있도록 기능을 제공하는 라이브러리\n",
    "import requests\n",
    "# re: 정규 표현식을 사용할때, 사용하는 파이썬 내장 모듈\n",
    "import re\n",
    "import pandas as pd\n",
    "import numpy as np\n",
    "import os\n",
    "import csv\n",
    "from time import sleep\n",
    "\n",
    "import warnings \n",
    "warnings.filterwarnings('ignore')"
   ]
  },
  {
   "cell_type": "markdown",
   "metadata": {},
   "source": [
    "## 셀레니움으로 별점 및 리뷰 저장"
   ]
  },
  {
   "cell_type": "code",
   "execution_count": 13,
   "metadata": {},
   "outputs": [],
   "source": [
    "# webdriver가 위치한 경로로 설정\n",
    "driver = webdriver.Chrome('/Users/boyeonjang/git/kyobobook-review/chromedriver')"
   ]
  },
  {
   "cell_type": "code",
   "execution_count": null,
   "metadata": {},
   "outputs": [],
   "source": [
    "numbers = ['B', 'C', 'D', 'E', 'F', 'G', 'H', 'I', 'J', 'K', 'L', 'M', 'N', 'Q', 'R', 'S', 'T', 'U', 'V', 'a', 'b', 'c', 'd', 'e', 'f', 'g', '08', 'h', 'i']"
   ]
  },
  {
   "cell_type": "code",
   "execution_count": 14,
   "metadata": {},
   "outputs": [
    {
     "name": "stdout",
     "output_type": "stream",
     "text": [
      "rating:  4\n",
      "text:  저는 자청을 싫어했습니다. 왠지 모르게 느껴지는 열등감이 저를 한없이 작게 느껴지게 했습니다.\n",
      "\n",
      "하지만 이제 저는 자청을 인정합니다. 그리고 동경합니다. 그가 나에게 사기를 쳐봤자, 나는 벗겨 먹을만한 돈이 없다는 걸 깨달았습니다. 자청은 가만히 있는데 혼자 북치고 장구치고 난리가 났네요.\n",
      "\n",
      "예전에 유튜브를 할 때랑 요즘은 좋아보입니다. 유튜브 은퇴하고 과거의 저 같이 열등감에 휩싸인 불특정 다수를 상대하지 않아서인지 몰래도 더 여유가 느껴집니다. 이쪽이 본래의 모습인 거겠죠.\n",
      "\n",
      "여튼 이번 책도 너무 기대하고 있습니다!\n",
      "date:  2022-05-26\n",
      "rating:  4\n",
      "text:  저는 세계를 누비는 항해사입니다. 저는 사방이 수평선이 보이는 선박 위에서, 자청님의 유튜브 영상, 전자책, 강의를 들으며, 초고속 성장을 했다고 자부할 수 있습니다.\n",
      "\n",
      "그런 대표님의 책인 역행자, 정말 기대가 됩니다! 지금 인도에 있기 때문에 한국 대리점에 책을 신청해 놨는데, 다음항차가 한국이라 역행자 읽을 생각에 정말 기대가 되네요 ㅎㅎ\n",
      "\n",
      "Ebook도 빨리 나오면 좋을 것 같아요!\n",
      "date:  2022-05-26\n",
      "rating:  1\n",
      "text:  걍 뭐 그냥 그래요 평이 왜이리 좋은건지...\n",
      "date:  2022-05-26\n",
      "rating:  1\n",
      "text:  핵심은 쏘옥 빠졌넹...;;;\n",
      "date:  2022-05-26\n",
      "rating:  4\n",
      "text:  자청님 역행자 책 기대됩니다. 부의역행자! 일반적인 흐름을 역행하는 방법을 알려주는책! 프드프라는 자청님이 운영하는 전자책 플랫폼에는 자청님의 기존 책이 있어요~ 그리고 여기에 나와있는 책들은 정말 고급진 핵심꿀팁책들도 많아요. 프드프의 자청님 책들을 읽어보면 과연 이 역행자에는 무엇이 적혀있을까 궁금해집니다. 평범한 삶을 바꾸고 싶은 사람은 꼭 읽어봐야할 책. 책권자 기대돕니다. 이채과함께 프드프의 자청님 책도 권합니다. 프드프에 자청베스트칼럼은 무료니 함 정독해보면 자청님이 어떤 사람인지도 알수 있어요~~ 전 프드프에 여러책이 있지만 책권자님의 평범한 삶을 바꾸는 성공의 8단계 도 읽어보니 너무 좋았어요~ 다른 책도 읽어볼 생각입니다. 그래도 무엇보다도 역행자가 제일 기대됩니다~^^\n",
      "date:  2022-05-26\n"
     ]
    },
    {
     "ename": "InvalidSessionIdException",
     "evalue": "Message: invalid session id\nStacktrace:\n0   chromedriver                        0x0000000100cf1788 chromedriver + 4515720\n1   chromedriver                        0x0000000100c759d3 chromedriver + 4008403\n2   chromedriver                        0x0000000100907feb chromedriver + 413675\n3   chromedriver                        0x000000010093272f chromedriver + 587567\n4   chromedriver                        0x0000000100933a75 chromedriver + 592501\n5   chromedriver                        0x0000000100cc16cd chromedriver + 4318925\n6   chromedriver                        0x0000000100cc5f35 chromedriver + 4337461\n7   chromedriver                        0x0000000100ccd1ff chromedriver + 4366847\n8   chromedriver                        0x0000000100cc6c5a chromedriver + 4340826\n9   chromedriver                        0x0000000100c9cc2c chromedriver + 4168748\n10  chromedriver                        0x0000000100ce34f8 chromedriver + 4457720\n11  chromedriver                        0x0000000100ce3693 chromedriver + 4458131\n12  chromedriver                        0x0000000100cf8a3e chromedriver + 4545086\n13  libsystem_pthread.dylib             0x00007ff80be544e1 _pthread_start + 125\n14  libsystem_pthread.dylib             0x00007ff80be4ff6b thread_start + 15\n",
     "output_type": "error",
     "traceback": [
      "\u001b[0;31m---------------------------------------------------------------------------\u001b[0m",
      "\u001b[0;31mInvalidSessionIdException\u001b[0m                 Traceback (most recent call last)",
      "\u001b[1;32m/Users/boyeonjang/git/kyobobook-review/kyobo-data-crawling.ipynb 셀 6\u001b[0m in \u001b[0;36m<cell line: 4>\u001b[0;34m()\u001b[0m\n\u001b[1;32m     <a href='vscode-notebook-cell:/Users/boyeonjang/git/kyobobook-review/kyobo-data-crawling.ipynb#X10sZmlsZQ%3D%3D?line=29'>30</a>\u001b[0m     \u001b[39m#(추가) 다음페이지 넘기기\u001b[39;00m\n\u001b[1;32m     <a href='vscode-notebook-cell:/Users/boyeonjang/git/kyobobook-review/kyobo-data-crawling.ipynb#X10sZmlsZQ%3D%3D?line=31'>32</a>\u001b[0m driver\u001b[39m.\u001b[39mclose()\n\u001b[0;32m---> <a href='vscode-notebook-cell:/Users/boyeonjang/git/kyobobook-review/kyobo-data-crawling.ipynb#X10sZmlsZQ%3D%3D?line=33'>34</a>\u001b[0m driver\u001b[39m.\u001b[39;49mback()\n\u001b[1;32m     <a href='vscode-notebook-cell:/Users/boyeonjang/git/kyobobook-review/kyobo-data-crawling.ipynb#X10sZmlsZQ%3D%3D?line=34'>35</a>\u001b[0m sleep(\u001b[39m2\u001b[39m)\n",
      "File \u001b[0;32m~/.local/share/virtualenvs/kyobobook-review-I3nwByYx/lib/python3.8/site-packages/selenium/webdriver/remote/webdriver.py:651\u001b[0m, in \u001b[0;36mWebDriver.back\u001b[0;34m(self)\u001b[0m\n\u001b[1;32m    642\u001b[0m \u001b[39mdef\u001b[39;00m \u001b[39mback\u001b[39m(\u001b[39mself\u001b[39m) \u001b[39m-\u001b[39m\u001b[39m>\u001b[39m \u001b[39mNone\u001b[39;00m:\n\u001b[1;32m    643\u001b[0m     \u001b[39m\"\"\"\u001b[39;00m\n\u001b[1;32m    644\u001b[0m \u001b[39m    Goes one step backward in the browser history.\u001b[39;00m\n\u001b[1;32m    645\u001b[0m \n\u001b[0;32m   (...)\u001b[0m\n\u001b[1;32m    649\u001b[0m \u001b[39m            driver.back()\u001b[39;00m\n\u001b[1;32m    650\u001b[0m \u001b[39m    \"\"\"\u001b[39;00m\n\u001b[0;32m--> 651\u001b[0m     \u001b[39mself\u001b[39;49m\u001b[39m.\u001b[39;49mexecute(Command\u001b[39m.\u001b[39;49mGO_BACK)\n",
      "File \u001b[0;32m~/.local/share/virtualenvs/kyobobook-review-I3nwByYx/lib/python3.8/site-packages/selenium/webdriver/remote/webdriver.py:428\u001b[0m, in \u001b[0;36mWebDriver.execute\u001b[0;34m(self, driver_command, params)\u001b[0m\n\u001b[1;32m    426\u001b[0m response \u001b[39m=\u001b[39m \u001b[39mself\u001b[39m\u001b[39m.\u001b[39mcommand_executor\u001b[39m.\u001b[39mexecute(driver_command, params)\n\u001b[1;32m    427\u001b[0m \u001b[39mif\u001b[39;00m response:\n\u001b[0;32m--> 428\u001b[0m     \u001b[39mself\u001b[39;49m\u001b[39m.\u001b[39;49merror_handler\u001b[39m.\u001b[39;49mcheck_response(response)\n\u001b[1;32m    429\u001b[0m     response[\u001b[39m'\u001b[39m\u001b[39mvalue\u001b[39m\u001b[39m'\u001b[39m] \u001b[39m=\u001b[39m \u001b[39mself\u001b[39m\u001b[39m.\u001b[39m_unwrap_value(\n\u001b[1;32m    430\u001b[0m         response\u001b[39m.\u001b[39mget(\u001b[39m'\u001b[39m\u001b[39mvalue\u001b[39m\u001b[39m'\u001b[39m, \u001b[39mNone\u001b[39;00m))\n\u001b[1;32m    431\u001b[0m     \u001b[39mreturn\u001b[39;00m response\n",
      "File \u001b[0;32m~/.local/share/virtualenvs/kyobobook-review-I3nwByYx/lib/python3.8/site-packages/selenium/webdriver/remote/errorhandler.py:243\u001b[0m, in \u001b[0;36mErrorHandler.check_response\u001b[0;34m(self, response)\u001b[0m\n\u001b[1;32m    241\u001b[0m         alert_text \u001b[39m=\u001b[39m value[\u001b[39m'\u001b[39m\u001b[39malert\u001b[39m\u001b[39m'\u001b[39m]\u001b[39m.\u001b[39mget(\u001b[39m'\u001b[39m\u001b[39mtext\u001b[39m\u001b[39m'\u001b[39m)\n\u001b[1;32m    242\u001b[0m     \u001b[39mraise\u001b[39;00m exception_class(message, screen, stacktrace, alert_text)  \u001b[39m# type: ignore[call-arg]  # mypy is not smart enough here\u001b[39;00m\n\u001b[0;32m--> 243\u001b[0m \u001b[39mraise\u001b[39;00m exception_class(message, screen, stacktrace)\n",
      "\u001b[0;31mInvalidSessionIdException\u001b[0m: Message: invalid session id\nStacktrace:\n0   chromedriver                        0x0000000100cf1788 chromedriver + 4515720\n1   chromedriver                        0x0000000100c759d3 chromedriver + 4008403\n2   chromedriver                        0x0000000100907feb chromedriver + 413675\n3   chromedriver                        0x000000010093272f chromedriver + 587567\n4   chromedriver                        0x0000000100933a75 chromedriver + 592501\n5   chromedriver                        0x0000000100cc16cd chromedriver + 4318925\n6   chromedriver                        0x0000000100cc5f35 chromedriver + 4337461\n7   chromedriver                        0x0000000100ccd1ff chromedriver + 4366847\n8   chromedriver                        0x0000000100cc6c5a chromedriver + 4340826\n9   chromedriver                        0x0000000100c9cc2c chromedriver + 4168748\n10  chromedriver                        0x0000000100ce34f8 chromedriver + 4457720\n11  chromedriver                        0x0000000100ce3693 chromedriver + 4458131\n12  chromedriver                        0x0000000100cf8a3e chromedriver + 4545086\n13  libsystem_pthread.dylib             0x00007ff80be544e1 _pthread_start + 125\n14  libsystem_pthread.dylib             0x00007ff80be4ff6b thread_start + 15\n"
     ]
    }
   ],
   "source": [
    "#(추가) 분야별로 for문\n",
    "driver.get(\"http://www.kyobobook.co.kr/bestSellerNew/bestseller.laf?mallGb=KOR&linkClass=c&range=1&kind=0&orderClick=DAb\")\n",
    "\n",
    "for i in range(1,21): # top 20\n",
    "    driver.find_element(By.XPATH, f'''//*[@id=\"main_contents\"]/ul/li[{i}]/div[2]/div[2]/a/strong''').click() # 책 제목 클릭\n",
    "\n",
    "    sleep(3)\n",
    "\n",
    "    driver.find_element(By.XPATH, '''//*[@id=\"event_info\"]/li[3]/a''').click() # 리뷰 클릭\n",
    "\n",
    "    sleep(3)\n",
    "\n",
    "    for idx in range(1,6): # 리뷰 5개씩\n",
    "\n",
    "        # one_review = driver.find_element(By.XPATH, f'''//*[@id=\"box_detail_review\"]/ul/li[{idx}]/div[1]''')\n",
    "\n",
    "        rating_xpath = driver.find_element(By.XPATH, f'''//*[@id=\"box_detail_review\"]/ul/li[{idx}]/div[1]/dl/dd[3]/span''')\n",
    "        text_xpath = driver.find_element(By.XPATH, f'''//*[@id=\"box_detail_review\"]/ul/li[{idx}]/div[1]/dl/dd[5]/div''')\n",
    "        date_xpath = driver.find_element(By.XPATH, '''//*[@id=\"box_detail_review\"]/ul/li[1]/div[1]/dl/dd[1]''')\n",
    "        \n",
    "        #(추가)csv로 저장\n",
    "        rating = rating_xpath.text\n",
    "        text = text_xpath.text\n",
    "        date = date_xpath.text\n",
    "        print(\"rating: \", rating)\n",
    "        print(\"text: \", text)\n",
    "        print(\"date: \", date)\n",
    "        sleep(5)\n",
    "\n",
    "        #(추가) 다음페이지 넘기기\n",
    "\n",
    "    driver.close()\n",
    "\n",
    "    driver.back()\n",
    "    sleep(2)\n"
   ]
  },
  {
   "cell_type": "code",
   "execution_count": 15,
   "metadata": {},
   "outputs": [
    {
     "ename": "InvalidSessionIdException",
     "evalue": "Message: invalid session id\nStacktrace:\n0   chromedriver                        0x0000000100cf1788 chromedriver + 4515720\n1   chromedriver                        0x0000000100c759d3 chromedriver + 4008403\n2   chromedriver                        0x0000000100907feb chromedriver + 413675\n3   chromedriver                        0x00000001009322fb chromedriver + 586491\n4   chromedriver                        0x000000010095c6dc chromedriver + 759516\n5   chromedriver                        0x000000010095a48d chromedriver + 750733\n6   chromedriver                        0x0000000100959bdb chromedriver + 748507\n7   chromedriver                        0x00000001008e0e6a chromedriver + 253546\n8   chromedriver                        0x0000000100cc16cd chromedriver + 4318925\n9   chromedriver                        0x0000000100cc5f35 chromedriver + 4337461\n10  chromedriver                        0x0000000100ccd1ff chromedriver + 4366847\n11  chromedriver                        0x0000000100cc6c5a chromedriver + 4340826\n12  chromedriver                        0x0000000100c9cc2c chromedriver + 4168748\n13  chromedriver                        0x00000001008dfea0 chromedriver + 249504\n14  dyld                                0x0000000103c9852e start + 462\n",
     "output_type": "error",
     "traceback": [
      "\u001b[0;31m---------------------------------------------------------------------------\u001b[0m",
      "\u001b[0;31mInvalidSessionIdException\u001b[0m                 Traceback (most recent call last)",
      "\u001b[1;32m/Users/boyeonjang/git/kyobobook-review/kyobo-data-crawling.ipynb 셀 7\u001b[0m in \u001b[0;36m<cell line: 2>\u001b[0;34m()\u001b[0m\n\u001b[1;32m      <a href='vscode-notebook-cell:/Users/boyeonjang/git/kyobobook-review/kyobo-data-crawling.ipynb#W5sZmlsZQ%3D%3D?line=0'>1</a>\u001b[0m \u001b[39m#(추가) 분야별로 for문\u001b[39;00m\n\u001b[0;32m----> <a href='vscode-notebook-cell:/Users/boyeonjang/git/kyobobook-review/kyobo-data-crawling.ipynb#W5sZmlsZQ%3D%3D?line=1'>2</a>\u001b[0m driver\u001b[39m.\u001b[39;49mget(\u001b[39m'\u001b[39;49m\u001b[39mhttp://www.kyobobook.co.kr/bestSellerNew/bestseller.laf?mallGb=KOR&linkClass=B&range=1&kind=2&orderClick=DAd\u001b[39;49m\u001b[39m'\u001b[39;49m)\n\u001b[1;32m      <a href='vscode-notebook-cell:/Users/boyeonjang/git/kyobobook-review/kyobo-data-crawling.ipynb#W5sZmlsZQ%3D%3D?line=3'>4</a>\u001b[0m \u001b[39mfor\u001b[39;00m book \u001b[39min\u001b[39;00m \u001b[39mrange\u001b[39m(\u001b[39m1\u001b[39m, \u001b[39m21\u001b[39m): \u001b[39m# top 20\u001b[39;00m\n\u001b[1;32m      <a href='vscode-notebook-cell:/Users/boyeonjang/git/kyobobook-review/kyobo-data-crawling.ipynb#W5sZmlsZQ%3D%3D?line=4'>5</a>\u001b[0m   driver\u001b[39m.\u001b[39mfind_element(By\u001b[39m.\u001b[39mXPATH, \u001b[39mf\u001b[39m\u001b[39m'''\u001b[39m\u001b[39m//*[@id=\u001b[39m\u001b[39m\"\u001b[39m\u001b[39mmain_contents\u001b[39m\u001b[39m\"\u001b[39m\u001b[39m]/ul/li[\u001b[39m\u001b[39m{\u001b[39;00mbook\u001b[39m}\u001b[39;00m\u001b[39m]/div[2]/div[2]/a/strong\u001b[39m\u001b[39m'''\u001b[39m)\u001b[39m.\u001b[39mclick() \u001b[39m# 책 제목 클릭\u001b[39;00m\n",
      "File \u001b[0;32m~/.local/share/virtualenvs/kyobobook-review-I3nwByYx/lib/python3.8/site-packages/selenium/webdriver/remote/webdriver.py:440\u001b[0m, in \u001b[0;36mWebDriver.get\u001b[0;34m(self, url)\u001b[0m\n\u001b[1;32m    436\u001b[0m \u001b[39mdef\u001b[39;00m \u001b[39mget\u001b[39m(\u001b[39mself\u001b[39m, url: \u001b[39mstr\u001b[39m) \u001b[39m-\u001b[39m\u001b[39m>\u001b[39m \u001b[39mNone\u001b[39;00m:\n\u001b[1;32m    437\u001b[0m     \u001b[39m\"\"\"\u001b[39;00m\n\u001b[1;32m    438\u001b[0m \u001b[39m    Loads a web page in the current browser session.\u001b[39;00m\n\u001b[1;32m    439\u001b[0m \u001b[39m    \"\"\"\u001b[39;00m\n\u001b[0;32m--> 440\u001b[0m     \u001b[39mself\u001b[39;49m\u001b[39m.\u001b[39;49mexecute(Command\u001b[39m.\u001b[39;49mGET, {\u001b[39m'\u001b[39;49m\u001b[39murl\u001b[39;49m\u001b[39m'\u001b[39;49m: url})\n",
      "File \u001b[0;32m~/.local/share/virtualenvs/kyobobook-review-I3nwByYx/lib/python3.8/site-packages/selenium/webdriver/remote/webdriver.py:428\u001b[0m, in \u001b[0;36mWebDriver.execute\u001b[0;34m(self, driver_command, params)\u001b[0m\n\u001b[1;32m    426\u001b[0m response \u001b[39m=\u001b[39m \u001b[39mself\u001b[39m\u001b[39m.\u001b[39mcommand_executor\u001b[39m.\u001b[39mexecute(driver_command, params)\n\u001b[1;32m    427\u001b[0m \u001b[39mif\u001b[39;00m response:\n\u001b[0;32m--> 428\u001b[0m     \u001b[39mself\u001b[39;49m\u001b[39m.\u001b[39;49merror_handler\u001b[39m.\u001b[39;49mcheck_response(response)\n\u001b[1;32m    429\u001b[0m     response[\u001b[39m'\u001b[39m\u001b[39mvalue\u001b[39m\u001b[39m'\u001b[39m] \u001b[39m=\u001b[39m \u001b[39mself\u001b[39m\u001b[39m.\u001b[39m_unwrap_value(\n\u001b[1;32m    430\u001b[0m         response\u001b[39m.\u001b[39mget(\u001b[39m'\u001b[39m\u001b[39mvalue\u001b[39m\u001b[39m'\u001b[39m, \u001b[39mNone\u001b[39;00m))\n\u001b[1;32m    431\u001b[0m     \u001b[39mreturn\u001b[39;00m response\n",
      "File \u001b[0;32m~/.local/share/virtualenvs/kyobobook-review-I3nwByYx/lib/python3.8/site-packages/selenium/webdriver/remote/errorhandler.py:243\u001b[0m, in \u001b[0;36mErrorHandler.check_response\u001b[0;34m(self, response)\u001b[0m\n\u001b[1;32m    241\u001b[0m         alert_text \u001b[39m=\u001b[39m value[\u001b[39m'\u001b[39m\u001b[39malert\u001b[39m\u001b[39m'\u001b[39m]\u001b[39m.\u001b[39mget(\u001b[39m'\u001b[39m\u001b[39mtext\u001b[39m\u001b[39m'\u001b[39m)\n\u001b[1;32m    242\u001b[0m     \u001b[39mraise\u001b[39;00m exception_class(message, screen, stacktrace, alert_text)  \u001b[39m# type: ignore[call-arg]  # mypy is not smart enough here\u001b[39;00m\n\u001b[0;32m--> 243\u001b[0m \u001b[39mraise\u001b[39;00m exception_class(message, screen, stacktrace)\n",
      "\u001b[0;31mInvalidSessionIdException\u001b[0m: Message: invalid session id\nStacktrace:\n0   chromedriver                        0x0000000100cf1788 chromedriver + 4515720\n1   chromedriver                        0x0000000100c759d3 chromedriver + 4008403\n2   chromedriver                        0x0000000100907feb chromedriver + 413675\n3   chromedriver                        0x00000001009322fb chromedriver + 586491\n4   chromedriver                        0x000000010095c6dc chromedriver + 759516\n5   chromedriver                        0x000000010095a48d chromedriver + 750733\n6   chromedriver                        0x0000000100959bdb chromedriver + 748507\n7   chromedriver                        0x00000001008e0e6a chromedriver + 253546\n8   chromedriver                        0x0000000100cc16cd chromedriver + 4318925\n9   chromedriver                        0x0000000100cc5f35 chromedriver + 4337461\n10  chromedriver                        0x0000000100ccd1ff chromedriver + 4366847\n11  chromedriver                        0x0000000100cc6c5a chromedriver + 4340826\n12  chromedriver                        0x0000000100c9cc2c chromedriver + 4168748\n13  chromedriver                        0x00000001008dfea0 chromedriver + 249504\n14  dyld                                0x0000000103c9852e start + 462\n"
     ]
    }
   ],
   "source": [
    "#(추가) 분야별로 for문\n",
    "driver.get('http://www.kyobobook.co.kr/bestSellerNew/bestseller.laf?mallGb=KOR&linkClass=B&range=1&kind=2&orderClick=DAd')\n",
    "\n",
    "for book in range(1, 21): # top 20\n",
    "  driver.find_element(By.XPATH, f'''//*[@id=\"main_contents\"]/ul/li[{book}]/div[2]/div[2]/a/strong''').click() # 책 제목 클릭\n",
    "  driver.implicitly_wait(time_to_wait=10) # 파싱이 되면 바로 다음 코드로 넘어간다 단, 파싱이 안될 경우 최대 10초를 기다린다\n",
    "  \n",
    "  title = driver.find_element(By.XPATH, '''//*[@id=\"container\"]/div[2]/form/div[1]/h1/strong''')\n",
    "  print('title: ', title)\n",
    "\n",
    "  driver.find_element(By.XPATH, '''//*[@id=\"event_info\"]/li[3]/a''').click() # 리뷰 클릭\n",
    "  driver.implicitly_wait(time_to_wait=10)\n",
    "\n",
    "  # 페이지가 다음으로 넘어가면\n",
    "  for page in range(1, 13):\n",
    "    for idx in range(1, 6): # 리뷰 5개씩\n",
    "      rating_xpath = driver.find_element(By.XPATH, f'''//*[@id=\"box_detail_review\"]/ul/li[{idx}]/div[1]/dl/dd[3]/span''') # 별점\n",
    "      text_xpath = driver.find_element(By.XPATH, f'''//*[@id=\"box_detail_review\"]/ul/li[{idx}]/div[1]/dl/dd[5]/div''') # 리뷰 글\n",
    "      \n",
    "      #(추가)csv로 저장\n",
    "      rating = rating_xpath.text\n",
    "      text = text_xpath.text\n",
    "      print('rating: ', rating)\n",
    "      print('text: ', text)\n",
    "      driver.implicitly_wait(time_to_wait=10)\n",
    "      \n",
    "      # 3개 열을 가진 pandas DataFrame으로 바꿔준 뒤 엑셀 파일로 저장\n",
    "      df = pd.DataFrame({'title':title, 'rating':rating, 'text':text}, index=0)\n",
    "      df.to_csv(\"best_books.csv\", encoding='utf-8-sig')\n",
    "\n",
    "    # 다음페이지 넘기기\n",
    "    driver.find_element(By.XPATH, f'''//*[@id=\"box_detail_review\"]/div[3]/div/a[{page}]''').click()\n",
    "  \n",
    "  driver.close()\n",
    "  driver.back()"
   ]
  },
  {
   "cell_type": "code",
   "execution_count": null,
   "metadata": {},
   "outputs": [],
   "source": []
  }
 ],
 "metadata": {
  "kernelspec": {
   "display_name": "Python 3.8.9 ('kyobobook-review-I3nwByYx')",
   "language": "python",
   "name": "python3"
  },
  "language_info": {
   "codemirror_mode": {
    "name": "ipython",
    "version": 3
   },
   "file_extension": ".py",
   "mimetype": "text/x-python",
   "name": "python",
   "nbconvert_exporter": "python",
   "pygments_lexer": "ipython3",
   "version": "3.8.9"
  },
  "orig_nbformat": 4,
  "vscode": {
   "interpreter": {
    "hash": "80b000d33da25225b27de613d7369f2995c7d52c783464a0a4b6bf932cf31843"
   }
  }
 },
 "nbformat": 4,
 "nbformat_minor": 2
}
