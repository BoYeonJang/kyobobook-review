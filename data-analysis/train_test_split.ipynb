{
 "cells": [
  {
   "cell_type": "code",
   "execution_count": 1,
   "id": "29b95f1e",
   "metadata": {},
   "outputs": [],
   "source": [
    "from sklearn.model_selection import train_test_split"
   ]
  },
  {
   "cell_type": "code",
   "execution_count": 2,
   "id": "b601af17",
   "metadata": {},
   "outputs": [],
   "source": [
    "import pandas as pd"
   ]
  },
  {
   "cell_type": "code",
   "execution_count": 10,
   "id": "b2be7ac9",
   "metadata": {},
   "outputs": [],
   "source": [
    "df = pd.read_csv('C:/Users/eunho/Workspace/kyobobook-review/분야별/리뷰순/달러구트_꿈_백화점.txt', sep='\\t')"
   ]
  },
  {
   "cell_type": "code",
   "execution_count": 11,
   "id": "e6c6bed0",
   "metadata": {},
   "outputs": [
    {
     "data": {
      "text/html": [
       "<div>\n",
       "<style scoped>\n",
       "    .dataframe tbody tr th:only-of-type {\n",
       "        vertical-align: middle;\n",
       "    }\n",
       "\n",
       "    .dataframe tbody tr th {\n",
       "        vertical-align: top;\n",
       "    }\n",
       "\n",
       "    .dataframe thead th {\n",
       "        text-align: right;\n",
       "    }\n",
       "</style>\n",
       "<table border=\"1\" class=\"dataframe\">\n",
       "  <thead>\n",
       "    <tr style=\"text-align: right;\">\n",
       "      <th></th>\n",
       "      <th>id</th>\n",
       "      <th>document</th>\n",
       "      <th>label</th>\n",
       "    </tr>\n",
       "  </thead>\n",
       "  <tbody>\n",
       "    <tr>\n",
       "      <th>0</th>\n",
       "      <td>0</td>\n",
       "      <td>삭제된 리뷰입니다.</td>\n",
       "      <td>0</td>\n",
       "    </tr>\n",
       "    <tr>\n",
       "      <th>1</th>\n",
       "      <td>1</td>\n",
       "      <td>리뷰보고 구매했는데\\t 너무 지루하고 초등학생들용 책인가 했습니다. 10년사이 읽은...</td>\n",
       "      <td>0</td>\n",
       "    </tr>\n",
       "    <tr>\n",
       "      <th>2</th>\n",
       "      <td>2</td>\n",
       "      <td>안녕하세요. 책을 읽기 전에 대충 리뷰를 달았는데\\t 다 읽은 후에 다시 리뷰를 달...</td>\n",
       "      <td>1</td>\n",
       "    </tr>\n",
       "    <tr>\n",
       "      <th>3</th>\n",
       "      <td>3</td>\n",
       "      <td>리뷰도 좋고 늘 인기도서에 있어서 기대하고 구매했는데 .. 기대와는 너무 달라서 실...</td>\n",
       "      <td>0</td>\n",
       "    </tr>\n",
       "    <tr>\n",
       "      <th>4</th>\n",
       "      <td>4</td>\n",
       "      <td>나만 재미가 없나?... 왜 이런책을 재밌다고 하는건지 저는 좀 이해가 안가네요. ...</td>\n",
       "      <td>0</td>\n",
       "    </tr>\n",
       "  </tbody>\n",
       "</table>\n",
       "</div>"
      ],
      "text/plain": [
       "   id                                           document  label\n",
       "0   0                                         삭제된 리뷰입니다.      0\n",
       "1   1  리뷰보고 구매했는데\\t 너무 지루하고 초등학생들용 책인가 했습니다. 10년사이 읽은...      0\n",
       "2   2  안녕하세요. 책을 읽기 전에 대충 리뷰를 달았는데\\t 다 읽은 후에 다시 리뷰를 달...      1\n",
       "3   3  리뷰도 좋고 늘 인기도서에 있어서 기대하고 구매했는데 .. 기대와는 너무 달라서 실...      0\n",
       "4   4  나만 재미가 없나?... 왜 이런책을 재밌다고 하는건지 저는 좀 이해가 안가네요. ...      0"
      ]
     },
     "execution_count": 11,
     "metadata": {},
     "output_type": "execute_result"
    }
   ],
   "source": [
    "df.head()"
   ]
  },
  {
   "cell_type": "code",
   "execution_count": 12,
   "id": "3fad27da",
   "metadata": {},
   "outputs": [],
   "source": [
    "x = df\n",
    "y = df['label']\n",
    "x_train, x_test, y_train, y_test = train_test_split(x, y, test_size = 0.3, random_state=1)"
   ]
  },
  {
   "cell_type": "code",
   "execution_count": 30,
   "id": "6303fff7",
   "metadata": {},
   "outputs": [],
   "source": [
    "x_train.to_csv('C:/Users/eunho/Workspace/kyobobook-review/분야별/리뷰순/달러구트_꿈_백화점_train.txt', index=False, sep='\\t')"
   ]
  },
  {
   "cell_type": "code",
   "execution_count": 31,
   "id": "03137626",
   "metadata": {},
   "outputs": [],
   "source": [
    "x_test.to_csv('C:/Users/eunho/Workspace/kyobobook-review/분야별/리뷰순/달러구트_꿈_백화점_test.txt', index=False, sep='\\t')"
   ]
  },
  {
   "cell_type": "code",
   "execution_count": null,
   "id": "5570665a",
   "metadata": {},
   "outputs": [],
   "source": []
  }
 ],
 "metadata": {
  "kernelspec": {
   "display_name": "Python 3 (ipykernel)",
   "language": "python",
   "name": "python3"
  },
  "language_info": {
   "codemirror_mode": {
    "name": "ipython",
    "version": 3
   },
   "file_extension": ".py",
   "mimetype": "text/x-python",
   "name": "python",
   "nbconvert_exporter": "python",
   "pygments_lexer": "ipython3",
   "version": "3.9.12"
  }
 },
 "nbformat": 4,
 "nbformat_minor": 5
}
