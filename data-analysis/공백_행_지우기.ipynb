{
 "cells": [
  {
   "cell_type": "code",
   "execution_count": 1,
   "id": "c239aea7",
   "metadata": {},
   "outputs": [],
   "source": [
    "import pandas as pd"
   ]
  },
  {
   "cell_type": "code",
   "execution_count": 4,
   "id": "35a8a630",
   "metadata": {},
   "outputs": [],
   "source": [
    "df = pd.read_csv('../Data/ebook/ebook_namiya_1.csv')"
   ]
  },
  {
   "cell_type": "code",
   "execution_count": 7,
   "id": "f0423920",
   "metadata": {},
   "outputs": [],
   "source": [
    "df = df.dropna(axis=0)"
   ]
  },
  {
   "cell_type": "code",
   "execution_count": 8,
   "id": "3bf09f1a",
   "metadata": {},
   "outputs": [
    {
     "data": {
      "text/plain": [
       "2623"
      ]
     },
     "execution_count": 8,
     "metadata": {},
     "output_type": "execute_result"
    }
   ],
   "source": [
    "len(df)"
   ]
  },
  {
   "cell_type": "code",
   "execution_count": 9,
   "id": "4a97e004",
   "metadata": {},
   "outputs": [],
   "source": [
    "df2 = pd.read_csv('../Data/리뷰순/나미야 잡화점의 기적.csv')"
   ]
  },
  {
   "cell_type": "code",
   "execution_count": 10,
   "id": "7f071fae",
   "metadata": {},
   "outputs": [],
   "source": [
    "df_row = pd.concat([df,df2])"
   ]
  },
  {
   "cell_type": "code",
   "execution_count": 12,
   "id": "e6f98cac",
   "metadata": {},
   "outputs": [
    {
     "data": {
      "text/plain": [
       "4633"
      ]
     },
     "execution_count": 12,
     "metadata": {},
     "output_type": "execute_result"
    }
   ],
   "source": [
    "len(df_row)"
   ]
  },
  {
   "cell_type": "code",
   "execution_count": 13,
   "id": "d1bebf84",
   "metadata": {},
   "outputs": [
    {
     "data": {
      "text/html": [
       "<div>\n",
       "<style scoped>\n",
       "    .dataframe tbody tr th:only-of-type {\n",
       "        vertical-align: middle;\n",
       "    }\n",
       "\n",
       "    .dataframe tbody tr th {\n",
       "        vertical-align: top;\n",
       "    }\n",
       "\n",
       "    .dataframe thead th {\n",
       "        text-align: right;\n",
       "    }\n",
       "</style>\n",
       "<table border=\"1\" class=\"dataframe\">\n",
       "  <thead>\n",
       "    <tr style=\"text-align: right;\">\n",
       "      <th></th>\n",
       "      <th>Unnamed: 0</th>\n",
       "      <th>part</th>\n",
       "      <th>title</th>\n",
       "      <th>rating</th>\n",
       "      <th>text</th>\n",
       "    </tr>\n",
       "  </thead>\n",
       "  <tbody>\n",
       "    <tr>\n",
       "      <th>0</th>\n",
       "      <td>0.0</td>\n",
       "      <td>소설</td>\n",
       "      <td>나미야 잡화점의 기적</td>\n",
       "      <td>1</td>\n",
       "      <td>굳이 이런 가벼운 글을 읽기 위해 책을 사야하는지....\\r\\n동네 도서관에서 빌려...</td>\n",
       "    </tr>\n",
       "    <tr>\n",
       "      <th>1</th>\n",
       "      <td>1.0</td>\n",
       "      <td>소설</td>\n",
       "      <td>나미야 잡화점의 기적</td>\n",
       "      <td>4</td>\n",
       "      <td>스스로 비관적이고 부정적인 성격이라고 생각이 든다면 한번 읽어보시길,,,왠만한 자기...</td>\n",
       "    </tr>\n",
       "    <tr>\n",
       "      <th>2</th>\n",
       "      <td>2.0</td>\n",
       "      <td>소설</td>\n",
       "      <td>나미야 잡화점의 기적</td>\n",
       "      <td>3</td>\n",
       "      <td>영화부터 봤는데 엄청 재미없어서 소설은 어떨까 했다. 진짜 재미없는 이야기면 어쩌지...</td>\n",
       "    </tr>\n",
       "    <tr>\n",
       "      <th>3</th>\n",
       "      <td>3.0</td>\n",
       "      <td>소설</td>\n",
       "      <td>나미야 잡화점의 기적</td>\n",
       "      <td>4</td>\n",
       "      <td>나미야 잡화점의 기적... 명작이라고 생각한다!! 추리소설도 아닌 소설이 추리소설처...</td>\n",
       "    </tr>\n",
       "    <tr>\n",
       "      <th>4</th>\n",
       "      <td>4.0</td>\n",
       "      <td>소설</td>\n",
       "      <td>나미야 잡화점의 기적</td>\n",
       "      <td>4</td>\n",
       "      <td>궁금해서 계속 읽게 됩니다. 흥미롭고 빠져드는 이야기</td>\n",
       "    </tr>\n",
       "  </tbody>\n",
       "</table>\n",
       "</div>"
      ],
      "text/plain": [
       "   Unnamed: 0 part        title  rating  \\\n",
       "0         0.0   소설  나미야 잡화점의 기적       1   \n",
       "1         1.0   소설  나미야 잡화점의 기적       4   \n",
       "2         2.0   소설  나미야 잡화점의 기적       3   \n",
       "3         3.0   소설  나미야 잡화점의 기적       4   \n",
       "4         4.0   소설  나미야 잡화점의 기적       4   \n",
       "\n",
       "                                                text  \n",
       "0  굳이 이런 가벼운 글을 읽기 위해 책을 사야하는지....\\r\\n동네 도서관에서 빌려...  \n",
       "1  스스로 비관적이고 부정적인 성격이라고 생각이 든다면 한번 읽어보시길,,,왠만한 자기...  \n",
       "2  영화부터 봤는데 엄청 재미없어서 소설은 어떨까 했다. 진짜 재미없는 이야기면 어쩌지...  \n",
       "3  나미야 잡화점의 기적... 명작이라고 생각한다!! 추리소설도 아닌 소설이 추리소설처...  \n",
       "4                      궁금해서 계속 읽게 됩니다. 흥미롭고 빠져드는 이야기  "
      ]
     },
     "execution_count": 13,
     "metadata": {},
     "output_type": "execute_result"
    }
   ],
   "source": [
    "df_row.head()"
   ]
  },
  {
   "cell_type": "code",
   "execution_count": 15,
   "id": "35b9df97",
   "metadata": {},
   "outputs": [],
   "source": [
    "def rating_to_label(rating):\n",
    "    if rating > 2:\n",
    "        return 1\n",
    "    else:\n",
    "        return 0\n",
    "    \n",
    "df_row['label'] = df_row['rating'].apply(lambda x: rating_to_label(x))"
   ]
  },
  {
   "cell_type": "code",
   "execution_count": 19,
   "id": "9af2fea9",
   "metadata": {},
   "outputs": [],
   "source": [
    "df_label = df_row.drop(['Unnamed: 0','part','title'], axis=1)"
   ]
  },
  {
   "cell_type": "code",
   "execution_count": 20,
   "id": "046faec6",
   "metadata": {},
   "outputs": [
    {
     "data": {
      "text/plain": [
       "4633"
      ]
     },
     "execution_count": 20,
     "metadata": {},
     "output_type": "execute_result"
    }
   ],
   "source": [
    "len(df_label)"
   ]
  },
  {
   "cell_type": "code",
   "execution_count": 21,
   "id": "014c50f5",
   "metadata": {},
   "outputs": [
    {
     "data": {
      "text/html": [
       "<div>\n",
       "<style scoped>\n",
       "    .dataframe tbody tr th:only-of-type {\n",
       "        vertical-align: middle;\n",
       "    }\n",
       "\n",
       "    .dataframe tbody tr th {\n",
       "        vertical-align: top;\n",
       "    }\n",
       "\n",
       "    .dataframe thead th {\n",
       "        text-align: right;\n",
       "    }\n",
       "</style>\n",
       "<table border=\"1\" class=\"dataframe\">\n",
       "  <thead>\n",
       "    <tr style=\"text-align: right;\">\n",
       "      <th></th>\n",
       "      <th>rating</th>\n",
       "      <th>text</th>\n",
       "      <th>label</th>\n",
       "    </tr>\n",
       "  </thead>\n",
       "  <tbody>\n",
       "    <tr>\n",
       "      <th>0</th>\n",
       "      <td>1</td>\n",
       "      <td>굳이 이런 가벼운 글을 읽기 위해 책을 사야하는지....\\r\\n동네 도서관에서 빌려...</td>\n",
       "      <td>0</td>\n",
       "    </tr>\n",
       "    <tr>\n",
       "      <th>1</th>\n",
       "      <td>4</td>\n",
       "      <td>스스로 비관적이고 부정적인 성격이라고 생각이 든다면 한번 읽어보시길,,,왠만한 자기...</td>\n",
       "      <td>1</td>\n",
       "    </tr>\n",
       "    <tr>\n",
       "      <th>2</th>\n",
       "      <td>3</td>\n",
       "      <td>영화부터 봤는데 엄청 재미없어서 소설은 어떨까 했다. 진짜 재미없는 이야기면 어쩌지...</td>\n",
       "      <td>1</td>\n",
       "    </tr>\n",
       "    <tr>\n",
       "      <th>3</th>\n",
       "      <td>4</td>\n",
       "      <td>나미야 잡화점의 기적... 명작이라고 생각한다!! 추리소설도 아닌 소설이 추리소설처...</td>\n",
       "      <td>1</td>\n",
       "    </tr>\n",
       "    <tr>\n",
       "      <th>4</th>\n",
       "      <td>4</td>\n",
       "      <td>궁금해서 계속 읽게 됩니다. 흥미롭고 빠져드는 이야기</td>\n",
       "      <td>1</td>\n",
       "    </tr>\n",
       "    <tr>\n",
       "      <th>...</th>\n",
       "      <td>...</td>\n",
       "      <td>...</td>\n",
       "      <td>...</td>\n",
       "    </tr>\n",
       "    <tr>\n",
       "      <th>2005</th>\n",
       "      <td>4</td>\n",
       "      <td>읽고싶어서 구매했어요~ 선물용으로도 좋을 것 같아요^^</td>\n",
       "      <td>1</td>\n",
       "    </tr>\n",
       "    <tr>\n",
       "      <th>2006</th>\n",
       "      <td>4</td>\n",
       "      <td>도서관에서 읽고 소장하려고 사버렸네요 여운이많이남는책입니다..</td>\n",
       "      <td>1</td>\n",
       "    </tr>\n",
       "    <tr>\n",
       "      <th>2007</th>\n",
       "      <td>4</td>\n",
       "      <td>선물용으로 또 구매했어요 그만큼 추천해요 지친 당신에게 힘을!</td>\n",
       "      <td>1</td>\n",
       "    </tr>\n",
       "    <tr>\n",
       "      <th>2008</th>\n",
       "      <td>4</td>\n",
       "      <td>술술 잘읽혀요 ㅎ 너무 재밌습니다</td>\n",
       "      <td>1</td>\n",
       "    </tr>\n",
       "    <tr>\n",
       "      <th>2009</th>\n",
       "      <td>4</td>\n",
       "      <td>꼭 한번 읽어보아야할책 일가친척 사돈의 팔촌까지 추천해줘도 아깝지 않다.</td>\n",
       "      <td>1</td>\n",
       "    </tr>\n",
       "  </tbody>\n",
       "</table>\n",
       "<p>4633 rows × 3 columns</p>\n",
       "</div>"
      ],
      "text/plain": [
       "      rating                                               text  label\n",
       "0          1  굳이 이런 가벼운 글을 읽기 위해 책을 사야하는지....\\r\\n동네 도서관에서 빌려...      0\n",
       "1          4  스스로 비관적이고 부정적인 성격이라고 생각이 든다면 한번 읽어보시길,,,왠만한 자기...      1\n",
       "2          3  영화부터 봤는데 엄청 재미없어서 소설은 어떨까 했다. 진짜 재미없는 이야기면 어쩌지...      1\n",
       "3          4  나미야 잡화점의 기적... 명작이라고 생각한다!! 추리소설도 아닌 소설이 추리소설처...      1\n",
       "4          4                      궁금해서 계속 읽게 됩니다. 흥미롭고 빠져드는 이야기      1\n",
       "...      ...                                                ...    ...\n",
       "2005       4                     읽고싶어서 구매했어요~ 선물용으로도 좋을 것 같아요^^      1\n",
       "2006       4                 도서관에서 읽고 소장하려고 사버렸네요 여운이많이남는책입니다..      1\n",
       "2007       4                 선물용으로 또 구매했어요 그만큼 추천해요 지친 당신에게 힘을!      1\n",
       "2008       4                                 술술 잘읽혀요 ㅎ 너무 재밌습니다      1\n",
       "2009       4           꼭 한번 읽어보아야할책 일가친척 사돈의 팔촌까지 추천해줘도 아깝지 않다.      1\n",
       "\n",
       "[4633 rows x 3 columns]"
      ]
     },
     "execution_count": 21,
     "metadata": {},
     "output_type": "execute_result"
    }
   ],
   "source": [
    "df_label"
   ]
  },
  {
   "cell_type": "code",
   "execution_count": 23,
   "id": "c3a86313",
   "metadata": {},
   "outputs": [],
   "source": [
    "df_label.rename(columns = {'text':'document'},inplace=True)"
   ]
  },
  {
   "cell_type": "code",
   "execution_count": 27,
   "id": "53128a4e",
   "metadata": {},
   "outputs": [],
   "source": [
    "df_label = df_label.drop(['rating'],axis=1)"
   ]
  },
  {
   "cell_type": "code",
   "execution_count": 28,
   "id": "cee01937",
   "metadata": {},
   "outputs": [
    {
     "data": {
      "text/html": [
       "<div>\n",
       "<style scoped>\n",
       "    .dataframe tbody tr th:only-of-type {\n",
       "        vertical-align: middle;\n",
       "    }\n",
       "\n",
       "    .dataframe tbody tr th {\n",
       "        vertical-align: top;\n",
       "    }\n",
       "\n",
       "    .dataframe thead th {\n",
       "        text-align: right;\n",
       "    }\n",
       "</style>\n",
       "<table border=\"1\" class=\"dataframe\">\n",
       "  <thead>\n",
       "    <tr style=\"text-align: right;\">\n",
       "      <th></th>\n",
       "      <th>document</th>\n",
       "      <th>label</th>\n",
       "    </tr>\n",
       "  </thead>\n",
       "  <tbody>\n",
       "    <tr>\n",
       "      <th>0</th>\n",
       "      <td>굳이 이런 가벼운 글을 읽기 위해 책을 사야하는지....\\r\\n동네 도서관에서 빌려...</td>\n",
       "      <td>0</td>\n",
       "    </tr>\n",
       "    <tr>\n",
       "      <th>1</th>\n",
       "      <td>스스로 비관적이고 부정적인 성격이라고 생각이 든다면 한번 읽어보시길,,,왠만한 자기...</td>\n",
       "      <td>1</td>\n",
       "    </tr>\n",
       "    <tr>\n",
       "      <th>2</th>\n",
       "      <td>영화부터 봤는데 엄청 재미없어서 소설은 어떨까 했다. 진짜 재미없는 이야기면 어쩌지...</td>\n",
       "      <td>1</td>\n",
       "    </tr>\n",
       "    <tr>\n",
       "      <th>3</th>\n",
       "      <td>나미야 잡화점의 기적... 명작이라고 생각한다!! 추리소설도 아닌 소설이 추리소설처...</td>\n",
       "      <td>1</td>\n",
       "    </tr>\n",
       "    <tr>\n",
       "      <th>4</th>\n",
       "      <td>궁금해서 계속 읽게 됩니다. 흥미롭고 빠져드는 이야기</td>\n",
       "      <td>1</td>\n",
       "    </tr>\n",
       "    <tr>\n",
       "      <th>...</th>\n",
       "      <td>...</td>\n",
       "      <td>...</td>\n",
       "    </tr>\n",
       "    <tr>\n",
       "      <th>2005</th>\n",
       "      <td>읽고싶어서 구매했어요~ 선물용으로도 좋을 것 같아요^^</td>\n",
       "      <td>1</td>\n",
       "    </tr>\n",
       "    <tr>\n",
       "      <th>2006</th>\n",
       "      <td>도서관에서 읽고 소장하려고 사버렸네요 여운이많이남는책입니다..</td>\n",
       "      <td>1</td>\n",
       "    </tr>\n",
       "    <tr>\n",
       "      <th>2007</th>\n",
       "      <td>선물용으로 또 구매했어요 그만큼 추천해요 지친 당신에게 힘을!</td>\n",
       "      <td>1</td>\n",
       "    </tr>\n",
       "    <tr>\n",
       "      <th>2008</th>\n",
       "      <td>술술 잘읽혀요 ㅎ 너무 재밌습니다</td>\n",
       "      <td>1</td>\n",
       "    </tr>\n",
       "    <tr>\n",
       "      <th>2009</th>\n",
       "      <td>꼭 한번 읽어보아야할책 일가친척 사돈의 팔촌까지 추천해줘도 아깝지 않다.</td>\n",
       "      <td>1</td>\n",
       "    </tr>\n",
       "  </tbody>\n",
       "</table>\n",
       "<p>4633 rows × 2 columns</p>\n",
       "</div>"
      ],
      "text/plain": [
       "                                               document  label\n",
       "0     굳이 이런 가벼운 글을 읽기 위해 책을 사야하는지....\\r\\n동네 도서관에서 빌려...      0\n",
       "1     스스로 비관적이고 부정적인 성격이라고 생각이 든다면 한번 읽어보시길,,,왠만한 자기...      1\n",
       "2     영화부터 봤는데 엄청 재미없어서 소설은 어떨까 했다. 진짜 재미없는 이야기면 어쩌지...      1\n",
       "3     나미야 잡화점의 기적... 명작이라고 생각한다!! 추리소설도 아닌 소설이 추리소설처...      1\n",
       "4                         궁금해서 계속 읽게 됩니다. 흥미롭고 빠져드는 이야기      1\n",
       "...                                                 ...    ...\n",
       "2005                     읽고싶어서 구매했어요~ 선물용으로도 좋을 것 같아요^^      1\n",
       "2006                 도서관에서 읽고 소장하려고 사버렸네요 여운이많이남는책입니다..      1\n",
       "2007                 선물용으로 또 구매했어요 그만큼 추천해요 지친 당신에게 힘을!      1\n",
       "2008                                 술술 잘읽혀요 ㅎ 너무 재밌습니다      1\n",
       "2009           꼭 한번 읽어보아야할책 일가친척 사돈의 팔촌까지 추천해줘도 아깝지 않다.      1\n",
       "\n",
       "[4633 rows x 2 columns]"
      ]
     },
     "execution_count": 28,
     "metadata": {},
     "output_type": "execute_result"
    }
   ],
   "source": [
    "df_label"
   ]
  },
  {
   "cell_type": "code",
   "execution_count": 29,
   "id": "6fcb692f",
   "metadata": {},
   "outputs": [],
   "source": [
    "df_label.to_csv('./namiya_label.csv')"
   ]
  },
  {
   "cell_type": "code",
   "execution_count": null,
   "id": "502d2c5f",
   "metadata": {},
   "outputs": [],
   "source": [
    "x = df_label\n",
    "y = df_label['label']\n",
    "x_train, x_test, y_train, y_test = train_test_split(x, y, test_size = 0.3, random_state=1)"
   ]
  },
  {
   "cell_type": "code",
   "execution_count": null,
   "id": "0ce19210",
   "metadata": {},
   "outputs": [],
   "source": []
  },
  {
   "cell_type": "code",
   "execution_count": null,
   "id": "ebf61f05",
   "metadata": {},
   "outputs": [],
   "source": []
  },
  {
   "cell_type": "code",
   "execution_count": null,
   "id": "5bf7469d",
   "metadata": {},
   "outputs": [],
   "source": []
  },
  {
   "cell_type": "code",
   "execution_count": null,
   "id": "56ed87f6",
   "metadata": {},
   "outputs": [],
   "source": []
  },
  {
   "cell_type": "code",
   "execution_count": null,
   "id": "6ecc670c",
   "metadata": {},
   "outputs": [],
   "source": []
  },
  {
   "cell_type": "code",
   "execution_count": 30,
   "id": "fe785c06",
   "metadata": {},
   "outputs": [],
   "source": [
    "data = pd.read_csv('./namiya_label_tab.csv')"
   ]
  },
  {
   "cell_type": "code",
   "execution_count": 32,
   "id": "d99ec095",
   "metadata": {},
   "outputs": [
    {
     "data": {
      "text/plain": [
       "Index(['id\\tdocument\\tlabel'], dtype='object')"
      ]
     },
     "execution_count": 32,
     "metadata": {},
     "output_type": "execute_result"
    }
   ],
   "source": [
    "data.columns"
   ]
  },
  {
   "cell_type": "code",
   "execution_count": null,
   "id": "6e42b595",
   "metadata": {},
   "outputs": [],
   "source": []
  }
 ],
 "metadata": {
  "kernelspec": {
   "display_name": "Python 3 (ipykernel)",
   "language": "python",
   "name": "python3"
  },
  "language_info": {
   "codemirror_mode": {
    "name": "ipython",
    "version": 3
   },
   "file_extension": ".py",
   "mimetype": "text/x-python",
   "name": "python",
   "nbconvert_exporter": "python",
   "pygments_lexer": "ipython3",
   "version": "3.9.12"
  }
 },
 "nbformat": 4,
 "nbformat_minor": 5
}
