{
 "cells": [
  {
   "cell_type": "code",
   "execution_count": 1,
   "id": "707d30be",
   "metadata": {},
   "outputs": [],
   "source": [
    "import pandas as pd"
   ]
  },
  {
   "cell_type": "code",
   "execution_count": 2,
   "id": "0d0608b6",
   "metadata": {},
   "outputs": [
    {
     "data": {
      "text/html": [
       "<div>\n",
       "<style scoped>\n",
       "    .dataframe tbody tr th:only-of-type {\n",
       "        vertical-align: middle;\n",
       "    }\n",
       "\n",
       "    .dataframe tbody tr th {\n",
       "        vertical-align: top;\n",
       "    }\n",
       "\n",
       "    .dataframe thead th {\n",
       "        text-align: right;\n",
       "    }\n",
       "</style>\n",
       "<table border=\"1\" class=\"dataframe\">\n",
       "  <thead>\n",
       "    <tr style=\"text-align: right;\">\n",
       "      <th></th>\n",
       "      <th>part</th>\n",
       "      <th>title</th>\n",
       "      <th>date</th>\n",
       "      <th>rating</th>\n",
       "      <th>text</th>\n",
       "    </tr>\n",
       "  </thead>\n",
       "  <tbody>\n",
       "    <tr>\n",
       "      <th>0</th>\n",
       "      <td>가정생활</td>\n",
       "      <td>내 아이를 바꾸는 위대한 질문 하브루타</td>\n",
       "      <td>2022-08-02</td>\n",
       "      <td>1.0</td>\n",
       "      <td>내가 이 책을 왜 샀지. 생각하게 하는 책이에요. 깊이도 없고 이론적 바탕도 없고 ...</td>\n",
       "    </tr>\n",
       "    <tr>\n",
       "      <th>1</th>\n",
       "      <td>가정생활</td>\n",
       "      <td>내 아이를 바꾸는 위대한 질문 하브루타</td>\n",
       "      <td>2022-08-03</td>\n",
       "      <td>1.0</td>\n",
       "      <td>최근 구매한 책중 가장 기발했네요. 본인일기라고 하신 댓글에 공감하구요. 인스타 광...</td>\n",
       "    </tr>\n",
       "    <tr>\n",
       "      <th>2</th>\n",
       "      <td>가정생활</td>\n",
       "      <td>내 아이를 바꾸는 위대한 질문 하브루타</td>\n",
       "      <td>2022-08-12</td>\n",
       "      <td>4.0</td>\n",
       "      <td>모든 엄마가 공감하고 직접 적용해 볼 수 있는 하브루타 대화를 제시한다</td>\n",
       "    </tr>\n",
       "    <tr>\n",
       "      <th>3</th>\n",
       "      <td>가정생활</td>\n",
       "      <td>내 아이를 바꾸는 위대한 질문 하브루타</td>\n",
       "      <td>2022-08-09</td>\n",
       "      <td>4.0</td>\n",
       "      <td>이해하기쉽고 편하게 접근할수있게 하브루타교육법을 본인의 경험과함께 잘풀어낸책이네요~...</td>\n",
       "    </tr>\n",
       "    <tr>\n",
       "      <th>4</th>\n",
       "      <td>가정생활</td>\n",
       "      <td>내 아이를 바꾸는 위대한 질문 하브루타</td>\n",
       "      <td>2022-07-31</td>\n",
       "      <td>4.0</td>\n",
       "      <td>그냥 쭉쭉 읽어 내려가는 책이다라고 표현하기에는 그렇고 많은 생각을 하게 하는 책이...</td>\n",
       "    </tr>\n",
       "  </tbody>\n",
       "</table>\n",
       "</div>"
      ],
      "text/plain": [
       "   part                  title        date  rating  \\\n",
       "0  가정생활  내 아이를 바꾸는 위대한 질문 하브루타  2022-08-02     1.0   \n",
       "1  가정생활  내 아이를 바꾸는 위대한 질문 하브루타  2022-08-03     1.0   \n",
       "2  가정생활  내 아이를 바꾸는 위대한 질문 하브루타  2022-08-12     4.0   \n",
       "3  가정생활  내 아이를 바꾸는 위대한 질문 하브루타  2022-08-09     4.0   \n",
       "4  가정생활  내 아이를 바꾸는 위대한 질문 하브루타  2022-07-31     4.0   \n",
       "\n",
       "                                                text  \n",
       "0  내가 이 책을 왜 샀지. 생각하게 하는 책이에요. 깊이도 없고 이론적 바탕도 없고 ...  \n",
       "1  최근 구매한 책중 가장 기발했네요. 본인일기라고 하신 댓글에 공감하구요. 인스타 광...  \n",
       "2            모든 엄마가 공감하고 직접 적용해 볼 수 있는 하브루타 대화를 제시한다  \n",
       "3  이해하기쉽고 편하게 접근할수있게 하브루타교육법을 본인의 경험과함께 잘풀어낸책이네요~...  \n",
       "4  그냥 쭉쭉 읽어 내려가는 책이다라고 표현하기에는 그렇고 많은 생각을 하게 하는 책이...  "
      ]
     },
     "execution_count": 2,
     "metadata": {},
     "output_type": "execute_result"
    }
   ],
   "source": [
    "df = pd.read_csv('./Data/분야별/모든분야.csv')\n",
    "df.head()"
   ]
  },
  {
   "cell_type": "markdown",
   "id": "d041aeb9",
   "metadata": {},
   "source": [
    "# 평점 분포도"
   ]
  },
  {
   "cell_type": "code",
   "execution_count": 3,
   "id": "385bb703",
   "metadata": {},
   "outputs": [],
   "source": [
    "import matplotlib.pyplot as plt\n",
    "%matplotlib inline"
   ]
  },
  {
   "cell_type": "code",
   "execution_count": 5,
   "id": "91fd2c20",
   "metadata": {},
   "outputs": [
    {
     "data": {
      "image/png": "[encoded data removed]",
      "text/plain": [
       "<Figure size 432x288 with 1 Axes>"
      ]
     },
     "metadata": {
      "needs_background": "light"
     },
     "output_type": "display_data"
    }
   ],
   "source": [
    "df.rating.value_counts().sort_index().plot(kind='bar')\n",
    "plt.show()"
   ]
  },
  {
   "cell_type": "markdown",
   "id": "c1ee801e",
   "metadata": {},
   "source": [
    "현재 압도적으로 4점짜리 리뷰가 많음 => \"불균형 데이터셋\"\n",
    "\n",
    "이러면 성능이 잘 나오기 어렵고 모형의 성능을 정확도로 층정하기 어렵다는는 특징을 지님"
   ]
  },
  {
   "cell_type": "code",
   "execution_count": 14,
   "id": "b281c2af",
   "metadata": {},
   "outputs": [
    {
     "name": "stdout",
     "output_type": "stream",
     "text": [
      "별점 1점 개수:  392\n",
      "별점 2점 개수:  546\n",
      "별점 3점 개수:  3746\n",
      "별점 4점 개수:  39691\n"
     ]
    }
   ],
   "source": [
    "print(\"별점 1점 개수: \",len(df[df['rating']==1.0]))\n",
    "print(\"별점 2점 개수: \",len(df[df['rating']==2.0]))\n",
    "print(\"별점 3점 개수: \",len(df[df['rating']==3.0]))\n",
    "print(\"별점 4점 개수: \",len(df[df['rating']==4.0]))"
   ]
  },
  {
   "cell_type": "code",
   "execution_count": 19,
   "id": "91757394",
   "metadata": {},
   "outputs": [],
   "source": [
    "negative_df = pd.concat([df[df['rating']==1.0],df[df['rating']==2.0]],ignore_index=True)\n",
    "positive_df = pd.concat([df[df['rating']==4.0],df[df['rating']==4.0]],ignore_index=True)"
   ]
  },
  {
   "cell_type": "code",
   "execution_count": 21,
   "id": "64a9936a",
   "metadata": {},
   "outputs": [
    {
     "data": {
      "text/html": [
       "<div>\n",
       "<style scoped>\n",
       "    .dataframe tbody tr th:only-of-type {\n",
       "        vertical-align: middle;\n",
       "    }\n",
       "\n",
       "    .dataframe tbody tr th {\n",
       "        vertical-align: top;\n",
       "    }\n",
       "\n",
       "    .dataframe thead th {\n",
       "        text-align: right;\n",
       "    }\n",
       "</style>\n",
       "<table border=\"1\" class=\"dataframe\">\n",
       "  <thead>\n",
       "    <tr style=\"text-align: right;\">\n",
       "      <th></th>\n",
       "      <th>part</th>\n",
       "      <th>title</th>\n",
       "      <th>date</th>\n",
       "      <th>rating</th>\n",
       "      <th>text</th>\n",
       "    </tr>\n",
       "  </thead>\n",
       "  <tbody>\n",
       "    <tr>\n",
       "      <th>0</th>\n",
       "      <td>가정생활</td>\n",
       "      <td>내 아이를 바꾸는 위대한 질문 하브루타</td>\n",
       "      <td>2022-08-02</td>\n",
       "      <td>1.0</td>\n",
       "      <td>내가 이 책을 왜 샀지. 생각하게 하는 책이에요. 깊이도 없고 이론적 바탕도 없고 ...</td>\n",
       "    </tr>\n",
       "    <tr>\n",
       "      <th>1</th>\n",
       "      <td>가정생활</td>\n",
       "      <td>내 아이를 바꾸는 위대한 질문 하브루타</td>\n",
       "      <td>2022-08-03</td>\n",
       "      <td>1.0</td>\n",
       "      <td>최근 구매한 책중 가장 기발했네요. 본인일기라고 하신 댓글에 공감하구요. 인스타 광...</td>\n",
       "    </tr>\n",
       "    <tr>\n",
       "      <th>2</th>\n",
       "      <td>가정생활</td>\n",
       "      <td>금쪽이들의 진짜 마음속</td>\n",
       "      <td>2022-06-02</td>\n",
       "      <td>1.0</td>\n",
       "      <td>너무좋아요! 잘읽혀져요</td>\n",
       "    </tr>\n",
       "    <tr>\n",
       "      <th>3</th>\n",
       "      <td>가정생활</td>\n",
       "      <td>똑게육아</td>\n",
       "      <td>2022-08-19</td>\n",
       "      <td>1.0</td>\n",
       "      <td>수면교육 배우려고 구매했는데 내용은 좋았지만 정작 도움이 하나도 되지 않았어요.. ...</td>\n",
       "    </tr>\n",
       "    <tr>\n",
       "      <th>4</th>\n",
       "      <td>가정생활</td>\n",
       "      <td>세상에서 제일 재밌는 종이접기</td>\n",
       "      <td>2020-12-29</td>\n",
       "      <td>1.0</td>\n",
       "      <td>어려워요</td>\n",
       "    </tr>\n",
       "  </tbody>\n",
       "</table>\n",
       "</div>"
      ],
      "text/plain": [
       "   part                  title        date  rating  \\\n",
       "0  가정생활  내 아이를 바꾸는 위대한 질문 하브루타  2022-08-02     1.0   \n",
       "1  가정생활  내 아이를 바꾸는 위대한 질문 하브루타  2022-08-03     1.0   \n",
       "2  가정생활           금쪽이들의 진짜 마음속  2022-06-02     1.0   \n",
       "3  가정생활                   똑게육아  2022-08-19     1.0   \n",
       "4  가정생활       세상에서 제일 재밌는 종이접기  2020-12-29     1.0   \n",
       "\n",
       "                                                text  \n",
       "0  내가 이 책을 왜 샀지. 생각하게 하는 책이에요. 깊이도 없고 이론적 바탕도 없고 ...  \n",
       "1  최근 구매한 책중 가장 기발했네요. 본인일기라고 하신 댓글에 공감하구요. 인스타 광...  \n",
       "2                                       너무좋아요! 잘읽혀져요  \n",
       "3  수면교육 배우려고 구매했는데 내용은 좋았지만 정작 도움이 하나도 되지 않았어요.. ...  \n",
       "4                                               어려워요  "
      ]
     },
     "execution_count": 21,
     "metadata": {},
     "output_type": "execute_result"
    }
   ],
   "source": [
    "negative_df.head()"
   ]
  },
  {
   "cell_type": "code",
   "execution_count": 22,
   "id": "e2ae55cf",
   "metadata": {},
   "outputs": [
    {
     "data": {
      "text/html": [
       "<div>\n",
       "<style scoped>\n",
       "    .dataframe tbody tr th:only-of-type {\n",
       "        vertical-align: middle;\n",
       "    }\n",
       "\n",
       "    .dataframe tbody tr th {\n",
       "        vertical-align: top;\n",
       "    }\n",
       "\n",
       "    .dataframe thead th {\n",
       "        text-align: right;\n",
       "    }\n",
       "</style>\n",
       "<table border=\"1\" class=\"dataframe\">\n",
       "  <thead>\n",
       "    <tr style=\"text-align: right;\">\n",
       "      <th></th>\n",
       "      <th>part</th>\n",
       "      <th>title</th>\n",
       "      <th>date</th>\n",
       "      <th>rating</th>\n",
       "      <th>text</th>\n",
       "    </tr>\n",
       "  </thead>\n",
       "  <tbody>\n",
       "    <tr>\n",
       "      <th>0</th>\n",
       "      <td>가정생활</td>\n",
       "      <td>내 아이를 바꾸는 위대한 질문 하브루타</td>\n",
       "      <td>2022-08-12</td>\n",
       "      <td>4.0</td>\n",
       "      <td>모든 엄마가 공감하고 직접 적용해 볼 수 있는 하브루타 대화를 제시한다</td>\n",
       "    </tr>\n",
       "    <tr>\n",
       "      <th>1</th>\n",
       "      <td>가정생활</td>\n",
       "      <td>내 아이를 바꾸는 위대한 질문 하브루타</td>\n",
       "      <td>2022-08-09</td>\n",
       "      <td>4.0</td>\n",
       "      <td>이해하기쉽고 편하게 접근할수있게 하브루타교육법을 본인의 경험과함께 잘풀어낸책이네요~...</td>\n",
       "    </tr>\n",
       "    <tr>\n",
       "      <th>2</th>\n",
       "      <td>가정생활</td>\n",
       "      <td>내 아이를 바꾸는 위대한 질문 하브루타</td>\n",
       "      <td>2022-07-31</td>\n",
       "      <td>4.0</td>\n",
       "      <td>그냥 쭉쭉 읽어 내려가는 책이다라고 표현하기에는 그렇고 많은 생각을 하게 하는 책이...</td>\n",
       "    </tr>\n",
       "    <tr>\n",
       "      <th>3</th>\n",
       "      <td>가정생활</td>\n",
       "      <td>내 아이를 바꾸는 위대한 질문 하브루타</td>\n",
       "      <td>2022-07-27</td>\n",
       "      <td>4.0</td>\n",
       "      <td>스스로 생각하고 해결하는 아이로 키울 수 있었으면 좋겠네요.</td>\n",
       "    </tr>\n",
       "    <tr>\n",
       "      <th>4</th>\n",
       "      <td>가정생활</td>\n",
       "      <td>내 아이를 바꾸는 위대한 질문 하브루타</td>\n",
       "      <td>2022-08-29</td>\n",
       "      <td>4.0</td>\n",
       "      <td>잘 읽히는데 깊이가 조금 부족해요</td>\n",
       "    </tr>\n",
       "  </tbody>\n",
       "</table>\n",
       "</div>"
      ],
      "text/plain": [
       "   part                  title        date  rating  \\\n",
       "0  가정생활  내 아이를 바꾸는 위대한 질문 하브루타  2022-08-12     4.0   \n",
       "1  가정생활  내 아이를 바꾸는 위대한 질문 하브루타  2022-08-09     4.0   \n",
       "2  가정생활  내 아이를 바꾸는 위대한 질문 하브루타  2022-07-31     4.0   \n",
       "3  가정생활  내 아이를 바꾸는 위대한 질문 하브루타  2022-07-27     4.0   \n",
       "4  가정생활  내 아이를 바꾸는 위대한 질문 하브루타  2022-08-29     4.0   \n",
       "\n",
       "                                                text  \n",
       "0            모든 엄마가 공감하고 직접 적용해 볼 수 있는 하브루타 대화를 제시한다  \n",
       "1  이해하기쉽고 편하게 접근할수있게 하브루타교육법을 본인의 경험과함께 잘풀어낸책이네요~...  \n",
       "2  그냥 쭉쭉 읽어 내려가는 책이다라고 표현하기에는 그렇고 많은 생각을 하게 하는 책이...  \n",
       "3                  스스로 생각하고 해결하는 아이로 키울 수 있었으면 좋겠네요.  \n",
       "4                                 잘 읽히는데 깊이가 조금 부족해요  "
      ]
     },
     "execution_count": 22,
     "metadata": {},
     "output_type": "execute_result"
    }
   ],
   "source": [
    "positive_df.head()"
   ]
  },
  {
   "cell_type": "markdown",
   "id": "ff249e9a",
   "metadata": {},
   "source": [
    "# 부정, 긍정 리뷰 차이"
   ]
  },
  {
   "cell_type": "code",
   "execution_count": 23,
   "id": "99538a6c",
   "metadata": {},
   "outputs": [
    {
     "name": "stdout",
     "output_type": "stream",
     "text": [
      "부정리뷰 size:  938\n",
      "긍정리뷰 size:  79382\n"
     ]
    }
   ],
   "source": [
    "print(\"부정리뷰 size: \", len(negative_df))\n",
    "print(\"긍정리뷰 size: \", len(positive_df))"
   ]
  },
  {
   "cell_type": "code",
   "execution_count": 26,
   "id": "e3313819",
   "metadata": {},
   "outputs": [],
   "source": [
    "negative_df.to_csv('./Data/분야별/부정_리뷰.csv',encoding='utf-8-sig')\n",
    "positive_df.to_csv('./Data/분야별/긍정_리뷰.csv',encoding='utf-8-sig')"
   ]
  }
 ],
 "metadata": {
  "kernelspec": {
   "display_name": "Python 3 (ipykernel)",
   "language": "python",
   "name": "python3"
  },
  "language_info": {
   "codemirror_mode": {
    "name": "ipython",
    "version": 3
   },
   "file_extension": ".py",
   "mimetype": "text/x-python",
   "name": "python",
   "nbconvert_exporter": "python",
   "pygments_lexer": "ipython3",
   "version": "3.9.12"
  }
 },
 "nbformat": 4,
 "nbformat_minor": 5
}
