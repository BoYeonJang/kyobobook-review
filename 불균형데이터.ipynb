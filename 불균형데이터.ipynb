{
 "cells": [
  {
   "cell_type": "code",
   "execution_count": 1,
   "id": "185ca390",
   "metadata": {},
   "outputs": [],
   "source": [
    "import pandas as pd"
   ]
  },
  {
   "cell_type": "code",
   "execution_count": 2,
   "id": "f2b96a2c",
   "metadata": {},
   "outputs": [
    {
     "data": {
      "text/html": [
       "<div>\n",
       "<style scoped>\n",
       "    .dataframe tbody tr th:only-of-type {\n",
       "        vertical-align: middle;\n",
       "    }\n",
       "\n",
       "    .dataframe tbody tr th {\n",
       "        vertical-align: top;\n",
       "    }\n",
       "\n",
       "    .dataframe thead th {\n",
       "        text-align: right;\n",
       "    }\n",
       "</style>\n",
       "<table border=\"1\" class=\"dataframe\">\n",
       "  <thead>\n",
       "    <tr style=\"text-align: right;\">\n",
       "      <th></th>\n",
       "      <th>part</th>\n",
       "      <th>title</th>\n",
       "      <th>date</th>\n",
       "      <th>rating</th>\n",
       "      <th>text</th>\n",
       "      <th>y</th>\n",
       "    </tr>\n",
       "  </thead>\n",
       "  <tbody>\n",
       "    <tr>\n",
       "      <th>0</th>\n",
       "      <td>가정생활</td>\n",
       "      <td>내 아이를 바꾸는 위대한 질문 하브루타</td>\n",
       "      <td>2022-08-02</td>\n",
       "      <td>1</td>\n",
       "      <td>내가 이 책을 왜 샀지. 생각하게 하는 책이에요. 깊이도 없고 이론적 바탕도 없고 ...</td>\n",
       "      <td>0</td>\n",
       "    </tr>\n",
       "    <tr>\n",
       "      <th>1</th>\n",
       "      <td>가정생활</td>\n",
       "      <td>내 아이를 바꾸는 위대한 질문 하브루타</td>\n",
       "      <td>2022-08-03</td>\n",
       "      <td>1</td>\n",
       "      <td>최근 구매한 책중 가장 기발했네요. 본인일기라고 하신 댓글에 공감하구요. 인스타 광...</td>\n",
       "      <td>0</td>\n",
       "    </tr>\n",
       "    <tr>\n",
       "      <th>2</th>\n",
       "      <td>가정생활</td>\n",
       "      <td>내 아이를 바꾸는 위대한 질문 하브루타</td>\n",
       "      <td>2022-08-12</td>\n",
       "      <td>4</td>\n",
       "      <td>모든 엄마가 공감하고 직접 적용해 볼 수 있는 하브루타 대화를 제시한다</td>\n",
       "      <td>1</td>\n",
       "    </tr>\n",
       "    <tr>\n",
       "      <th>3</th>\n",
       "      <td>가정생활</td>\n",
       "      <td>내 아이를 바꾸는 위대한 질문 하브루타</td>\n",
       "      <td>2022-08-09</td>\n",
       "      <td>4</td>\n",
       "      <td>이해하기쉽고 편하게 접근할수있게 하브루타교육법을 본인의 경험과함께 잘풀어낸책이네요~...</td>\n",
       "      <td>1</td>\n",
       "    </tr>\n",
       "    <tr>\n",
       "      <th>4</th>\n",
       "      <td>가정생활</td>\n",
       "      <td>내 아이를 바꾸는 위대한 질문 하브루타</td>\n",
       "      <td>2022-07-31</td>\n",
       "      <td>4</td>\n",
       "      <td>그냥 쭉쭉 읽어 내려가는 책이다라고 표현하기에는 그렇고 많은 생각을 하게 하는 책이...</td>\n",
       "      <td>1</td>\n",
       "    </tr>\n",
       "  </tbody>\n",
       "</table>\n",
       "</div>"
      ],
      "text/plain": [
       "   part                  title        date  rating  \\\n",
       "0  가정생활  내 아이를 바꾸는 위대한 질문 하브루타  2022-08-02       1   \n",
       "1  가정생활  내 아이를 바꾸는 위대한 질문 하브루타  2022-08-03       1   \n",
       "2  가정생활  내 아이를 바꾸는 위대한 질문 하브루타  2022-08-12       4   \n",
       "3  가정생활  내 아이를 바꾸는 위대한 질문 하브루타  2022-08-09       4   \n",
       "4  가정생활  내 아이를 바꾸는 위대한 질문 하브루타  2022-07-31       4   \n",
       "\n",
       "                                                text  y  \n",
       "0  내가 이 책을 왜 샀지. 생각하게 하는 책이에요. 깊이도 없고 이론적 바탕도 없고 ...  0  \n",
       "1  최근 구매한 책중 가장 기발했네요. 본인일기라고 하신 댓글에 공감하구요. 인스타 광...  0  \n",
       "2            모든 엄마가 공감하고 직접 적용해 볼 수 있는 하브루타 대화를 제시한다  1  \n",
       "3  이해하기쉽고 편하게 접근할수있게 하브루타교육법을 본인의 경험과함께 잘풀어낸책이네요~...  1  \n",
       "4  그냥 쭉쭉 읽어 내려가는 책이다라고 표현하기에는 그렇고 많은 생각을 하게 하는 책이...  1  "
      ]
     },
     "execution_count": 2,
     "metadata": {},
     "output_type": "execute_result"
    }
   ],
   "source": [
    "df = pd.read_csv('./Data/분야별/처리데이터/모든분야_라벨링_2.csv')\n",
    "df.head()"
   ]
  },
  {
   "cell_type": "code",
   "execution_count": 3,
   "id": "c7750e5f",
   "metadata": {},
   "outputs": [
    {
     "name": "stdout",
     "output_type": "stream",
     "text": [
      "데이터 size:  44375\n"
     ]
    }
   ],
   "source": [
    "print(\"데이터 size: \", len(df))"
   ]
  },
  {
   "cell_type": "markdown",
   "id": "2b7d0dcb",
   "metadata": {},
   "source": [
    "## 특징과 라벨 분리"
   ]
  },
  {
   "cell_type": "code",
   "execution_count": 5,
   "id": "83aad683",
   "metadata": {},
   "outputs": [],
   "source": [
    "X = df.drop('y',axis=1)\n",
    "Y = df['y']"
   ]
  },
  {
   "cell_type": "markdown",
   "id": "a31749e4",
   "metadata": {},
   "source": [
    "## 학습 데이터와 평가 데이터 분할"
   ]
  },
  {
   "cell_type": "code",
   "execution_count": 6,
   "id": "32b385df",
   "metadata": {},
   "outputs": [],
   "source": [
    "from sklearn.model_selection import train_test_split\n",
    "Train_X, Test_X, Train_Y, Test_Y = train_test_split(X, Y)"
   ]
  },
  {
   "cell_type": "code",
   "execution_count": 7,
   "id": "a7e4b23f",
   "metadata": {},
   "outputs": [
    {
     "data": {
      "text/plain": [
       "(33281, 5)"
      ]
     },
     "execution_count": 7,
     "metadata": {},
     "output_type": "execute_result"
    }
   ],
   "source": [
    "Train_X.shape"
   ]
  },
  {
   "cell_type": "code",
   "execution_count": 10,
   "id": "0c62af31",
   "metadata": {},
   "outputs": [
    {
     "data": {
      "text/plain": [
       "1    32573\n",
       "0      708\n",
       "Name: y, dtype: int64"
      ]
     },
     "execution_count": 10,
     "metadata": {},
     "output_type": "execute_result"
    }
   ],
   "source": [
    "# 라벨링 값 불균형 확인\n",
    "Train_Y.value_counts()"
   ]
  },
  {
   "cell_type": "markdown",
   "id": "c66f3453",
   "metadata": {},
   "source": [
    "## 불균형 비율 계산"
   ]
  },
  {
   "cell_type": "code",
   "execution_count": 12,
   "id": "00193d72",
   "metadata": {},
   "outputs": [
    {
     "data": {
      "text/plain": [
       "46.00706214689266"
      ]
     },
     "execution_count": 12,
     "metadata": {},
     "output_type": "execute_result"
    }
   ],
   "source": [
    "Train_Y.value_counts().iloc[0]/Train_Y.value_counts().iloc[-1]"
   ]
  },
  {
   "cell_type": "code",
   "execution_count": 40,
   "id": "2b4dc38d",
   "metadata": {},
   "outputs": [
    {
     "name": "stdout",
     "output_type": "stream",
     "text": [
      "1    97.886197\n",
      "0     2.113803\n",
      "Name: y, dtype: float64\n"
     ]
    },
    {
     "data": {
      "image/png": "[encoded data removed]",
      "text/plain": [
       "<Figure size 432x288 with 1 Axes>"
      ]
     },
     "metadata": {
      "needs_background": "light"
     },
     "output_type": "display_data"
    }
   ],
   "source": [
    "df.y.value_counts(normalize=True).plot(kind='bar')\n",
    "print(df.y.value_counts(normalize=True)*100)"
   ]
  },
  {
   "cell_type": "markdown",
   "id": "6b90f2e8",
   "metadata": {},
   "source": [
    "----------"
   ]
  },
  {
   "cell_type": "code",
   "execution_count": null,
   "id": "a5f12332",
   "metadata": {},
   "outputs": [],
   "source": []
  }
 ],
 "metadata": {
  "kernelspec": {
   "display_name": "Python 3 (ipykernel)",
   "language": "python",
   "name": "python3"
  },
  "language_info": {
   "codemirror_mode": {
    "name": "ipython",
    "version": 3
   },
   "file_extension": ".py",
   "mimetype": "text/x-python",
   "name": "python",
   "nbconvert_exporter": "python",
   "pygments_lexer": "ipython3",
   "version": "3.9.12"
  }
 },
 "nbformat": 4,
 "nbformat_minor": 5
}
