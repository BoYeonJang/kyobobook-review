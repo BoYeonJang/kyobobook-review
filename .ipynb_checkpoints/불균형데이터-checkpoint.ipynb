{
 "cells": [
  {
   "cell_type": "code",
   "execution_count": 1,
   "id": "185ca390",
   "metadata": {},
   "outputs": [],
   "source": [
    "import pandas as pd"
   ]
  },
  {
   "cell_type": "code",
   "execution_count": 2,
   "id": "f2b96a2c",
   "metadata": {},
   "outputs": [
    {
     "data": {
      "text/html": [
       "<div>\n",
       "<style scoped>\n",
       "    .dataframe tbody tr th:only-of-type {\n",
       "        vertical-align: middle;\n",
       "    }\n",
       "\n",
       "    .dataframe tbody tr th {\n",
       "        vertical-align: top;\n",
       "    }\n",
       "\n",
       "    .dataframe thead th {\n",
       "        text-align: right;\n",
       "    }\n",
       "</style>\n",
       "<table border=\"1\" class=\"dataframe\">\n",
       "  <thead>\n",
       "    <tr style=\"text-align: right;\">\n",
       "      <th></th>\n",
       "      <th>part</th>\n",
       "      <th>title</th>\n",
       "      <th>date</th>\n",
       "      <th>rating</th>\n",
       "      <th>text</th>\n",
       "      <th>y</th>\n",
       "    </tr>\n",
       "  </thead>\n",
       "  <tbody>\n",
       "    <tr>\n",
       "      <th>0</th>\n",
       "      <td>가정생활</td>\n",
       "      <td>내 아이를 바꾸는 위대한 질문 하브루타</td>\n",
       "      <td>2022-08-02</td>\n",
       "      <td>1</td>\n",
       "      <td>내가 이 책을 왜 샀지. 생각하게 하는 책이에요. 깊이도 없고 이론적 바탕도 없고 ...</td>\n",
       "      <td>0</td>\n",
       "    </tr>\n",
       "    <tr>\n",
       "      <th>1</th>\n",
       "      <td>가정생활</td>\n",
       "      <td>내 아이를 바꾸는 위대한 질문 하브루타</td>\n",
       "      <td>2022-08-03</td>\n",
       "      <td>1</td>\n",
       "      <td>최근 구매한 책중 가장 기발했네요. 본인일기라고 하신 댓글에 공감하구요. 인스타 광...</td>\n",
       "      <td>0</td>\n",
       "    </tr>\n",
       "    <tr>\n",
       "      <th>2</th>\n",
       "      <td>가정생활</td>\n",
       "      <td>내 아이를 바꾸는 위대한 질문 하브루타</td>\n",
       "      <td>2022-08-12</td>\n",
       "      <td>4</td>\n",
       "      <td>모든 엄마가 공감하고 직접 적용해 볼 수 있는 하브루타 대화를 제시한다</td>\n",
       "      <td>1</td>\n",
       "    </tr>\n",
       "    <tr>\n",
       "      <th>3</th>\n",
       "      <td>가정생활</td>\n",
       "      <td>내 아이를 바꾸는 위대한 질문 하브루타</td>\n",
       "      <td>2022-08-09</td>\n",
       "      <td>4</td>\n",
       "      <td>이해하기쉽고 편하게 접근할수있게 하브루타교육법을 본인의 경험과함께 잘풀어낸책이네요~...</td>\n",
       "      <td>1</td>\n",
       "    </tr>\n",
       "    <tr>\n",
       "      <th>4</th>\n",
       "      <td>가정생활</td>\n",
       "      <td>내 아이를 바꾸는 위대한 질문 하브루타</td>\n",
       "      <td>2022-07-31</td>\n",
       "      <td>4</td>\n",
       "      <td>그냥 쭉쭉 읽어 내려가는 책이다라고 표현하기에는 그렇고 많은 생각을 하게 하는 책이...</td>\n",
       "      <td>1</td>\n",
       "    </tr>\n",
       "  </tbody>\n",
       "</table>\n",
       "</div>"
      ],
      "text/plain": [
       "   part                  title        date  rating  \\\n",
       "0  가정생활  내 아이를 바꾸는 위대한 질문 하브루타  2022-08-02       1   \n",
       "1  가정생활  내 아이를 바꾸는 위대한 질문 하브루타  2022-08-03       1   \n",
       "2  가정생활  내 아이를 바꾸는 위대한 질문 하브루타  2022-08-12       4   \n",
       "3  가정생활  내 아이를 바꾸는 위대한 질문 하브루타  2022-08-09       4   \n",
       "4  가정생활  내 아이를 바꾸는 위대한 질문 하브루타  2022-07-31       4   \n",
       "\n",
       "                                                text  y  \n",
       "0  내가 이 책을 왜 샀지. 생각하게 하는 책이에요. 깊이도 없고 이론적 바탕도 없고 ...  0  \n",
       "1  최근 구매한 책중 가장 기발했네요. 본인일기라고 하신 댓글에 공감하구요. 인스타 광...  0  \n",
       "2            모든 엄마가 공감하고 직접 적용해 볼 수 있는 하브루타 대화를 제시한다  1  \n",
       "3  이해하기쉽고 편하게 접근할수있게 하브루타교육법을 본인의 경험과함께 잘풀어낸책이네요~...  1  \n",
       "4  그냥 쭉쭉 읽어 내려가는 책이다라고 표현하기에는 그렇고 많은 생각을 하게 하는 책이...  1  "
      ]
     },
     "execution_count": 2,
     "metadata": {},
     "output_type": "execute_result"
    }
   ],
   "source": [
    "df = pd.read_csv('./Data/분야별/처리데이터/모든분야_라벨링_2.csv')\n",
    "df.head()"
   ]
  },
  {
   "cell_type": "code",
   "execution_count": 3,
   "id": "c7750e5f",
   "metadata": {},
   "outputs": [
    {
     "name": "stdout",
     "output_type": "stream",
     "text": [
      "데이터 size:  44375\n"
     ]
    }
   ],
   "source": [
    "print(\"데이터 size: \", len(df))"
   ]
  },
  {
   "cell_type": "code",
   "execution_count": null,
   "id": "44a2feab",
   "metadata": {},
   "outputs": [],
   "source": []
  }
 ],
 "metadata": {
  "kernelspec": {
   "display_name": "Python 3 (ipykernel)",
   "language": "python",
   "name": "python3"
  },
  "language_info": {
   "codemirror_mode": {
    "name": "ipython",
    "version": 3
   },
   "file_extension": ".py",
   "mimetype": "text/x-python",
   "name": "python",
   "nbconvert_exporter": "python",
   "pygments_lexer": "ipython3",
   "version": "3.9.12"
  }
 },
 "nbformat": 4,
 "nbformat_minor": 5
}
